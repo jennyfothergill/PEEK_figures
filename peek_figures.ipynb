{
 "cells": [
  {
   "cell_type": "code",
   "execution_count": 1,
   "metadata": {},
   "outputs": [],
   "source": [
    "from PySide2 import QtCore\n",
    "%gui qt"
   ]
  },
  {
   "cell_type": "code",
   "execution_count": 3,
   "metadata": {},
   "outputs": [
    {
     "name": "stderr",
     "output_type": "stream",
     "text": [
      "/Users/jenny/miniconda3/envs/grits/lib/python3.7/site-packages/hoomd/meta.py:26: DeprecationWarning: Using or importing the ABCs from 'collections' instead of from 'collections.abc' is deprecated since Python 3.3,and in 3.9 it will stop working\n",
      "  from collections import Mapping\n"
     ]
    }
   ],
   "source": [
    "import mbuild as mb\n",
    "import numpy as np\n",
    "import fresnel\n",
    "import fresnel.interact\n",
    "import PIL\n",
    "\n",
    "import utils\n",
    "from cg_compound import CG_Compound\n",
    "from draw_scene import visualize"
   ]
  },
  {
   "cell_type": "code",
   "execution_count": 34,
   "metadata": {},
   "outputs": [
    {
     "data": {
      "application/3dmoljs_load.v0": "<div id=\"3dmolviewer_1597442802046571\"  style=\"position: relative; width: 640px; height: 480px\">\n        <p id=\"3dmolwarning_1597442802046571\" style=\"background-color:#ffcccc;color:black\">You appear to be running in JupyterLab (or JavaScript failed to load for some other reason).  You need to install the 3dmol extension: <br>\n        <tt>jupyter labextension install jupyterlab_3dmol</tt></p>\n        </div>\n<script>\n\nvar loadScriptAsync = function(uri){\n  return new Promise((resolve, reject) => {\n    var tag = document.createElement('script');\n    tag.src = uri;\n    tag.async = true;\n    tag.onload = () => {\n      resolve();\n    };\n  var firstScriptTag = document.getElementsByTagName('script')[0];\n  firstScriptTag.parentNode.insertBefore(tag, firstScriptTag);\n});\n};\n\nif(typeof $3Dmolpromise === 'undefined') {\n$3Dmolpromise = null;\n  $3Dmolpromise = loadScriptAsync('https://3dmol.csb.pitt.edu/build/3Dmol.js');\n}\n\nvar viewer_1597442802046571 = null;\nvar warn = document.getElementById(\"3dmolwarning_1597442802046571\");\nif(warn) {\n    warn.parentNode.removeChild(warn);\n}\n$3Dmolpromise.then(function() {\nviewer_1597442802046571 = $3Dmol.createViewer($(\"#3dmolviewer_1597442802046571\"),{backgroundColor:\"white\"});\n\tviewer_1597442802046571.addModel(\"@<TRIPOS>MOLECULE\\nRES\\n20 19 1 0 1\\nSMALL\\nNO_CHARGES\\n@<TRIPOS>CRYSIN\\n   11.4242     9.8403     7.6170    90.0000    90.0000    90.0000  1  1\\n@<TRIPOS>ATOM\\n       1 C            0.8767    -0.0045     0.0275 C             1 RES     \\n       2 C            2.3961     0.0104     0.0310 C             1 RES     \\n       3 C            2.9300     1.4040     0.3563 C             1 RES     \\n       4 C            4.4572     1.4209     0.3603 C             1 RES     \\n       5 C            4.9911     2.8145     0.6856 C             1 RES     \\n       6 C            6.5105     2.8294     0.6891 C             1 RES     \\n       7 H            0.5074    -1.0077    -0.2067 H             1 RES     \\n       8 H            0.4815     0.6886    -0.7217 H             1 RES     \\n       9 H            0.4815     0.2852     1.0061 H             1 RES     \\n      10 H            2.7640    -0.3108    -0.9502 H             1 RES     \\n      11 H            2.7640    -0.7120     0.7686 H             1 RES     \\n      12 H            2.5558     1.7222     1.3367 H             1 RES     \\n      13 H            2.5558     2.1234    -0.3819 H             1 RES     \\n      14 H            4.8314     1.1027    -0.6202 H             1 RES     \\n      15 H            4.8314     0.7015     1.0985 H             1 RES     \\n      16 H            4.6233     3.1356     1.6668 H             1 RES     \\n      17 H            4.6233     3.5369    -0.0520 H             1 RES     \\n      18 H            6.9057     2.1363     1.4383 H             1 RES     \\n      19 H            6.8798     3.8326     0.9233 H             1 RES     \\n      20 H            6.9057     2.5397    -0.2896 H             1 RES     \\n@<TRIPOS>BOND\\n       1        1        9 1\\n       2        6       18 1\\n       3        4       15 1\\n       4        1        8 1\\n       5       10        2 1\\n       6        3        2 1\\n       7        4        5 1\\n       8        5       17 1\\n       9        1        2 1\\n      10        6       19 1\\n      11        5       16 1\\n      12        3       12 1\\n      13       11        2 1\\n      14        6       20 1\\n      15        1        7 1\\n      16        5        6 1\\n      17        3        4 1\\n      18        3       13 1\\n      19        4       14 1\\n@<TRIPOS>SUBSTRUCTURE\\n       1 RES             1 RESIDUE    0 **** ROOT      0\\n\",\"mol2\");\n\tviewer_1597442802046571.setStyle({\"stick\": {\"radius\": 0.2, \"color\": \"grey\"}, \"sphere\": {\"scale\": 0.3, \"colorscheme\": {}}});\n\tviewer_1597442802046571.zoomTo();\nviewer_1597442802046571.render();\n});\n</script>",
      "text/html": [
       "<div id=\"3dmolviewer_1597442802046571\"  style=\"position: relative; width: 640px; height: 480px\">\n",
       "        <p id=\"3dmolwarning_1597442802046571\" style=\"background-color:#ffcccc;color:black\">You appear to be running in JupyterLab (or JavaScript failed to load for some other reason).  You need to install the 3dmol extension: <br>\n",
       "        <tt>jupyter labextension install jupyterlab_3dmol</tt></p>\n",
       "        </div>\n",
       "<script>\n",
       "\n",
       "var loadScriptAsync = function(uri){\n",
       "  return new Promise((resolve, reject) => {\n",
       "    var tag = document.createElement('script');\n",
       "    tag.src = uri;\n",
       "    tag.async = true;\n",
       "    tag.onload = () => {\n",
       "      resolve();\n",
       "    };\n",
       "  var firstScriptTag = document.getElementsByTagName('script')[0];\n",
       "  firstScriptTag.parentNode.insertBefore(tag, firstScriptTag);\n",
       "});\n",
       "};\n",
       "\n",
       "if(typeof $3Dmolpromise === 'undefined') {\n",
       "$3Dmolpromise = null;\n",
       "  $3Dmolpromise = loadScriptAsync('https://3dmol.csb.pitt.edu/build/3Dmol.js');\n",
       "}\n",
       "\n",
       "var viewer_1597442802046571 = null;\n",
       "var warn = document.getElementById(\"3dmolwarning_1597442802046571\");\n",
       "if(warn) {\n",
       "    warn.parentNode.removeChild(warn);\n",
       "}\n",
       "$3Dmolpromise.then(function() {\n",
       "viewer_1597442802046571 = $3Dmol.createViewer($(\"#3dmolviewer_1597442802046571\"),{backgroundColor:\"white\"});\n",
       "\tviewer_1597442802046571.addModel(\"@<TRIPOS>MOLECULE\\nRES\\n20 19 1 0 1\\nSMALL\\nNO_CHARGES\\n@<TRIPOS>CRYSIN\\n   11.4242     9.8403     7.6170    90.0000    90.0000    90.0000  1  1\\n@<TRIPOS>ATOM\\n       1 C            0.8767    -0.0045     0.0275 C             1 RES     \\n       2 C            2.3961     0.0104     0.0310 C             1 RES     \\n       3 C            2.9300     1.4040     0.3563 C             1 RES     \\n       4 C            4.4572     1.4209     0.3603 C             1 RES     \\n       5 C            4.9911     2.8145     0.6856 C             1 RES     \\n       6 C            6.5105     2.8294     0.6891 C             1 RES     \\n       7 H            0.5074    -1.0077    -0.2067 H             1 RES     \\n       8 H            0.4815     0.6886    -0.7217 H             1 RES     \\n       9 H            0.4815     0.2852     1.0061 H             1 RES     \\n      10 H            2.7640    -0.3108    -0.9502 H             1 RES     \\n      11 H            2.7640    -0.7120     0.7686 H             1 RES     \\n      12 H            2.5558     1.7222     1.3367 H             1 RES     \\n      13 H            2.5558     2.1234    -0.3819 H             1 RES     \\n      14 H            4.8314     1.1027    -0.6202 H             1 RES     \\n      15 H            4.8314     0.7015     1.0985 H             1 RES     \\n      16 H            4.6233     3.1356     1.6668 H             1 RES     \\n      17 H            4.6233     3.5369    -0.0520 H             1 RES     \\n      18 H            6.9057     2.1363     1.4383 H             1 RES     \\n      19 H            6.8798     3.8326     0.9233 H             1 RES     \\n      20 H            6.9057     2.5397    -0.2896 H             1 RES     \\n@<TRIPOS>BOND\\n       1        1        9 1\\n       2        6       18 1\\n       3        4       15 1\\n       4        1        8 1\\n       5       10        2 1\\n       6        3        2 1\\n       7        4        5 1\\n       8        5       17 1\\n       9        1        2 1\\n      10        6       19 1\\n      11        5       16 1\\n      12        3       12 1\\n      13       11        2 1\\n      14        6       20 1\\n      15        1        7 1\\n      16        5        6 1\\n      17        3        4 1\\n      18        3       13 1\\n      19        4       14 1\\n@<TRIPOS>SUBSTRUCTURE\\n       1 RES             1 RESIDUE    0 **** ROOT      0\\n\",\"mol2\");\n",
       "\tviewer_1597442802046571.setStyle({\"stick\": {\"radius\": 0.2, \"color\": \"grey\"}, \"sphere\": {\"scale\": 0.3, \"colorscheme\": {}}});\n",
       "\tviewer_1597442802046571.zoomTo();\n",
       "viewer_1597442802046571.render();\n",
       "});\n",
       "</script>"
      ]
     },
     "metadata": {},
     "output_type": "display_data"
    },
    {
     "name": "stderr",
     "output_type": "stream",
     "text": [
      "/Users/jenny/miniconda3/envs/grits/lib/python3.7/site-packages/mbuild/compound.py:2443: UserWarning: Guessing that \"<_A pos=( 0.1636, 0.0003, 0.0029), 0 bonds, id: 5082898768>\" is element: \"EP\"\n",
      "  atom, element))\n",
      "/Users/jenny/miniconda3/envs/grits/lib/python3.7/site-packages/mbuild/compound.py:2443: UserWarning: Guessing that \"<_B pos=( 0.3694, 0.1412, 0.0358), 0 bonds, id: 5082899024>\" is element: \"EP\"\n",
      "  atom, element))\n"
     ]
    },
    {
     "data": {
      "application/3dmoljs_load.v0": "<div id=\"3dmolviewer_15974428021141279\"  style=\"position: relative; width: 640px; height: 480px\">\n        <p id=\"3dmolwarning_15974428021141279\" style=\"background-color:#ffcccc;color:black\">You appear to be running in JupyterLab (or JavaScript failed to load for some other reason).  You need to install the 3dmol extension: <br>\n        <tt>jupyter labextension install jupyterlab_3dmol</tt></p>\n        </div>\n<script>\n\nvar loadScriptAsync = function(uri){\n  return new Promise((resolve, reject) => {\n    var tag = document.createElement('script');\n    tag.src = uri;\n    tag.async = true;\n    tag.onload = () => {\n      resolve();\n    };\n  var firstScriptTag = document.getElementsByTagName('script')[0];\n  firstScriptTag.parentNode.insertBefore(tag, firstScriptTag);\n});\n};\n\nif(typeof $3Dmolpromise === 'undefined') {\n$3Dmolpromise = null;\n  $3Dmolpromise = loadScriptAsync('https://3dmol.csb.pitt.edu/build/3Dmol.js');\n}\n\nvar viewer_15974428021141279 = null;\nvar warn = document.getElementById(\"3dmolwarning_15974428021141279\");\nif(warn) {\n    warn.parentNode.removeChild(warn);\n}\n$3Dmolpromise.then(function() {\nviewer_15974428021141279 = $3Dmol.createViewer($(\"#3dmolviewer_15974428021141279\"),{backgroundColor:\"white\"});\n\tviewer_15974428021141279.addModel(\"@<TRIPOS>MOLECULE\\nRES\\n20 19 1 0 1\\nSMALL\\nNO_CHARGES\\n@<TRIPOS>CRYSIN\\n    6.4242     4.8403     2.6170    90.0000    90.0000    90.0000  1  1\\n@<TRIPOS>ATOM\\n       1 C            0.8767    -0.0045     0.0275 C             1 RES     \\n       2 C            2.3961     0.0104     0.0310 C             1 RES     \\n       3 C            2.9300     1.4040     0.3563 C             1 RES     \\n       4 C            4.4572     1.4209     0.3603 C             1 RES     \\n       5 C            4.9911     2.8145     0.6856 C             1 RES     \\n       6 C            6.5105     2.8294     0.6891 C             1 RES     \\n       7 H            0.5074    -1.0077    -0.2067 H             1 RES     \\n       8 H            0.4815     0.6886    -0.7217 H             1 RES     \\n       9 H            0.4815     0.2852     1.0061 H             1 RES     \\n      10 H            2.7640    -0.3108    -0.9502 H             1 RES     \\n      11 H            2.7640    -0.7120     0.7686 H             1 RES     \\n      12 H            2.5558     1.7222     1.3367 H             1 RES     \\n      13 H            2.5558     2.1234    -0.3819 H             1 RES     \\n      14 H            4.8314     1.1027    -0.6202 H             1 RES     \\n      15 H            4.8314     0.7015     1.0985 H             1 RES     \\n      16 H            4.6233     3.1356     1.6668 H             1 RES     \\n      17 H            4.6233     3.5369    -0.0520 H             1 RES     \\n      18 H            6.9057     2.1363     1.4383 H             1 RES     \\n      19 H            6.8798     3.8326     0.9233 H             1 RES     \\n      20 H            6.9057     2.5397    -0.2896 H             1 RES     \\n@<TRIPOS>BOND\\n       1        6       18 1\\n       2        2        3 1\\n       3        4       15 1\\n       4       13        3 1\\n       5        8        1 1\\n       6        4       14 1\\n       7        5       17 1\\n       8        6       19 1\\n       9       11        2 1\\n      10        6       20 1\\n      11       10        2 1\\n      12        7        1 1\\n      13        1        2 1\\n      14        6        5 1\\n      15        4        5 1\\n      16        9        1 1\\n      17       12        3 1\\n      18        5       16 1\\n      19        4        3 1\\n@<TRIPOS>SUBSTRUCTURE\\n       1 RES             1 RESIDUE    0 **** ROOT      0\\n\",\"mol2\");\n\tviewer_15974428021141279.setStyle({\"stick\": {\"radius\": 0.2, \"opacity\": 0.6, \"color\": \"grey\"}, \"sphere\": {\"scale\": 0.3, \"opacity\": 0.6, \"colorscheme\": {\"_a\": \"blue\", \"_A\": \"blue\", \"_b\": \"orange\", \"_B\": \"orange\"}}});\n\tviewer_15974428021141279.addModel(\"@<TRIPOS>MOLECULE\\nRES\\n3 2 1 0 1\\nSMALL\\nNO_CHARGES\\n@<TRIPOS>CRYSIN\\n    9.1144     7.8189     5.6581    90.0000    90.0000    90.0000  1  1\\n@<TRIPOS>ATOM\\n       1 _A           1.6364     0.0030     0.0292 _A            1 RES     \\n       2 _A           5.7508     2.8219     0.6873 _A            1 RES     \\n       3 _B           3.6936     1.4124     0.3583 _B            1 RES     \\n@<TRIPOS>BOND\\n       1        2        3 1\\n       2        1        3 1\\n@<TRIPOS>SUBSTRUCTURE\\n       1 RES             1 RESIDUE    0 **** ROOT      0\\n\",\"mol2\");\n\tviewer_15974428021141279.setStyle({\"atom\": [\"_A\", \"_A\", \"_B\"]},{\"stick\": {\"radius\": 0.13999999999999999, \"opacity\": 1, \"color\": \"grey\"}, \"sphere\": {\"scale\": 0.7, \"opacity\": 1, \"colorscheme\": {\"_a\": \"blue\", \"_A\": \"blue\", \"_b\": \"orange\", \"_B\": \"orange\"}}});\n\tviewer_15974428021141279.zoomTo();\nviewer_15974428021141279.render();\n});\n</script>",
      "text/html": [
       "<div id=\"3dmolviewer_15974428021141279\"  style=\"position: relative; width: 640px; height: 480px\">\n",
       "        <p id=\"3dmolwarning_15974428021141279\" style=\"background-color:#ffcccc;color:black\">You appear to be running in JupyterLab (or JavaScript failed to load for some other reason).  You need to install the 3dmol extension: <br>\n",
       "        <tt>jupyter labextension install jupyterlab_3dmol</tt></p>\n",
       "        </div>\n",
       "<script>\n",
       "\n",
       "var loadScriptAsync = function(uri){\n",
       "  return new Promise((resolve, reject) => {\n",
       "    var tag = document.createElement('script');\n",
       "    tag.src = uri;\n",
       "    tag.async = true;\n",
       "    tag.onload = () => {\n",
       "      resolve();\n",
       "    };\n",
       "  var firstScriptTag = document.getElementsByTagName('script')[0];\n",
       "  firstScriptTag.parentNode.insertBefore(tag, firstScriptTag);\n",
       "});\n",
       "};\n",
       "\n",
       "if(typeof $3Dmolpromise === 'undefined') {\n",
       "$3Dmolpromise = null;\n",
       "  $3Dmolpromise = loadScriptAsync('https://3dmol.csb.pitt.edu/build/3Dmol.js');\n",
       "}\n",
       "\n",
       "var viewer_15974428021141279 = null;\n",
       "var warn = document.getElementById(\"3dmolwarning_15974428021141279\");\n",
       "if(warn) {\n",
       "    warn.parentNode.removeChild(warn);\n",
       "}\n",
       "$3Dmolpromise.then(function() {\n",
       "viewer_15974428021141279 = $3Dmol.createViewer($(\"#3dmolviewer_15974428021141279\"),{backgroundColor:\"white\"});\n",
       "\tviewer_15974428021141279.addModel(\"@<TRIPOS>MOLECULE\\nRES\\n20 19 1 0 1\\nSMALL\\nNO_CHARGES\\n@<TRIPOS>CRYSIN\\n    6.4242     4.8403     2.6170    90.0000    90.0000    90.0000  1  1\\n@<TRIPOS>ATOM\\n       1 C            0.8767    -0.0045     0.0275 C             1 RES     \\n       2 C            2.3961     0.0104     0.0310 C             1 RES     \\n       3 C            2.9300     1.4040     0.3563 C             1 RES     \\n       4 C            4.4572     1.4209     0.3603 C             1 RES     \\n       5 C            4.9911     2.8145     0.6856 C             1 RES     \\n       6 C            6.5105     2.8294     0.6891 C             1 RES     \\n       7 H            0.5074    -1.0077    -0.2067 H             1 RES     \\n       8 H            0.4815     0.6886    -0.7217 H             1 RES     \\n       9 H            0.4815     0.2852     1.0061 H             1 RES     \\n      10 H            2.7640    -0.3108    -0.9502 H             1 RES     \\n      11 H            2.7640    -0.7120     0.7686 H             1 RES     \\n      12 H            2.5558     1.7222     1.3367 H             1 RES     \\n      13 H            2.5558     2.1234    -0.3819 H             1 RES     \\n      14 H            4.8314     1.1027    -0.6202 H             1 RES     \\n      15 H            4.8314     0.7015     1.0985 H             1 RES     \\n      16 H            4.6233     3.1356     1.6668 H             1 RES     \\n      17 H            4.6233     3.5369    -0.0520 H             1 RES     \\n      18 H            6.9057     2.1363     1.4383 H             1 RES     \\n      19 H            6.8798     3.8326     0.9233 H             1 RES     \\n      20 H            6.9057     2.5397    -0.2896 H             1 RES     \\n@<TRIPOS>BOND\\n       1        6       18 1\\n       2        2        3 1\\n       3        4       15 1\\n       4       13        3 1\\n       5        8        1 1\\n       6        4       14 1\\n       7        5       17 1\\n       8        6       19 1\\n       9       11        2 1\\n      10        6       20 1\\n      11       10        2 1\\n      12        7        1 1\\n      13        1        2 1\\n      14        6        5 1\\n      15        4        5 1\\n      16        9        1 1\\n      17       12        3 1\\n      18        5       16 1\\n      19        4        3 1\\n@<TRIPOS>SUBSTRUCTURE\\n       1 RES             1 RESIDUE    0 **** ROOT      0\\n\",\"mol2\");\n",
       "\tviewer_15974428021141279.setStyle({\"stick\": {\"radius\": 0.2, \"opacity\": 0.6, \"color\": \"grey\"}, \"sphere\": {\"scale\": 0.3, \"opacity\": 0.6, \"colorscheme\": {\"_a\": \"blue\", \"_A\": \"blue\", \"_b\": \"orange\", \"_B\": \"orange\"}}});\n",
       "\tviewer_15974428021141279.addModel(\"@<TRIPOS>MOLECULE\\nRES\\n3 2 1 0 1\\nSMALL\\nNO_CHARGES\\n@<TRIPOS>CRYSIN\\n    9.1144     7.8189     5.6581    90.0000    90.0000    90.0000  1  1\\n@<TRIPOS>ATOM\\n       1 _A           1.6364     0.0030     0.0292 _A            1 RES     \\n       2 _A           5.7508     2.8219     0.6873 _A            1 RES     \\n       3 _B           3.6936     1.4124     0.3583 _B            1 RES     \\n@<TRIPOS>BOND\\n       1        2        3 1\\n       2        1        3 1\\n@<TRIPOS>SUBSTRUCTURE\\n       1 RES             1 RESIDUE    0 **** ROOT      0\\n\",\"mol2\");\n",
       "\tviewer_15974428021141279.setStyle({\"atom\": [\"_A\", \"_A\", \"_B\"]},{\"stick\": {\"radius\": 0.13999999999999999, \"opacity\": 1, \"color\": \"grey\"}, \"sphere\": {\"scale\": 0.7, \"opacity\": 1, \"colorscheme\": {\"_a\": \"blue\", \"_A\": \"blue\", \"_b\": \"orange\", \"_B\": \"orange\"}}});\n",
       "\tviewer_15974428021141279.zoomTo();\n",
       "viewer_15974428021141279.render();\n",
       "});\n",
       "</script>"
      ]
     },
     "metadata": {},
     "output_type": "display_data"
    }
   ],
   "source": [
    "hexane = mb.load(\"CCCCCC\", smiles=True)\n",
    "hexane.visualize().show()\n",
    "\n",
    "# convert to pybel mol\n",
    "mol = hexane.to_pybel()\n",
    "\n",
    "# to_pybel imports all bonds as order=1, this will type the bond correctly\n",
    "# if the structure is good\n",
    "mol.OBMol.PerceiveBondOrders()\n",
    "\n",
    "hexane_sites = [(\"_A\", \"C[CH3]\"), (\"_B\", \"CC\")]\n",
    "cg_hexane = utils.coarse(mol, hexane_sites)\n",
    "\n",
    "cg_hexane.visualize(show_atomistic=True, color_scheme={\"_A\": \"blue\", \"_B\": \"orange\"}).show()"
   ]
  },
  {
   "cell_type": "code",
   "execution_count": 27,
   "metadata": {},
   "outputs": [],
   "source": [
    "scene = utils.draw_scene(cg_hexane, color=\"spring\", show_atomistic=True)"
   ]
  },
  {
   "cell_type": "code",
   "execution_count": 28,
   "metadata": {},
   "outputs": [],
   "source": [
    "view = fresnel.interact.SceneView(scene)\n",
    "view.show()"
   ]
  },
  {
   "cell_type": "code",
   "execution_count": 29,
   "metadata": {},
   "outputs": [],
   "source": [
    "output = fresnel.pathtrace(scene, light_samples=40, w=600, h=600)\n",
    "filename = \"hexane_scene.png\"\n",
    "\n",
    "image = PIL.Image.fromarray(output[:], mode='RGBA')\n",
    "image.save(filename, dpi=(300, 300))"
   ]
  },
  {
   "cell_type": "code",
   "execution_count": 3,
   "metadata": {},
   "outputs": [],
   "source": [
    "peek = mb.load(\"peek_opt.mol2\")\n",
    "#print(peek.n_particles)\n",
    "#print(peek.n_bonds)\n",
    "#peek.visualize()"
   ]
  },
  {
   "cell_type": "code",
   "execution_count": 4,
   "metadata": {},
   "outputs": [],
   "source": [
    "scene = utils.draw_scene(peek)\n",
    "scene.camera = fresnel.camera.orthographic(\n",
    "    position=(-0.7705824971199036, -0.820938766002655, 0.3231777548789978), \n",
    "    look_at=(-0.8508099913597107, -0.0007099993526935577, 0.3265799880027771), \n",
    "    up=(0.9950225353240967, 0.09723380208015442, 0.021809743717312813), \n",
    "    height=1.7\n",
    ")"
   ]
  },
  {
   "cell_type": "code",
   "execution_count": 5,
   "metadata": {},
   "outputs": [
    {
     "data": {
      "text/html": [
       "<p><i>scene view opened in a new window...</i></p>"
      ],
      "text/plain": [
       "<fresnel.interact.SceneView at 0x126ff0ec8>"
      ]
     },
     "execution_count": 5,
     "metadata": {},
     "output_type": "execute_result"
    }
   ],
   "source": [
    "fresnel.interact.SceneView(scene)"
   ]
  },
  {
   "cell_type": "code",
   "execution_count": 6,
   "metadata": {},
   "outputs": [],
   "source": [
    "good_camera = scene.camera"
   ]
  },
  {
   "cell_type": "code",
   "execution_count": 7,
   "metadata": {},
   "outputs": [],
   "source": [
    "output = fresnel.pathtrace(scene, light_samples=40, w=600, h=600)\n",
    "filename = \"peek_scene.png\"\n",
    "\n",
    "image = PIL.Image.fromarray(output[:], mode='RGBA')\n",
    "image.save(filename, dpi=(300, 300))"
   ]
  },
  {
   "cell_type": "code",
   "execution_count": 8,
   "metadata": {},
   "outputs": [
    {
     "name": "stdout",
     "output_type": "stream",
     "text": [
      "WARNING: Some atoms have been left out of coarse-graining!\n"
     ]
    },
    {
     "name": "stderr",
     "output_type": "stream",
     "text": [
      "/Users/jenny/miniconda3/envs/fresnel/lib/python3.7/site-packages/openbabel/__init__.py:14: UserWarning: \"import openbabel\" is deprecated, instead use \"from openbabel import openbabel\"\n",
      "  warnings.warn('\"import openbabel\" is deprecated, instead use \"from openbabel import openbabel\"')\n"
     ]
    }
   ],
   "source": [
    "# convert to pybel mol\n",
    "mol = peek.to_pybel()\n",
    "\n",
    "# to_pybel imports all bonds as order=1, this will type the bond correctly\n",
    "# if the structure is good\n",
    "mol.OBMol.PerceiveBondOrders()\n",
    "\n",
    "\n",
    "cg_peek = utils.coarse(mol, [(\"_B\",\"c1ccccc1\")])"
   ]
  },
  {
   "cell_type": "code",
   "execution_count": 9,
   "metadata": {},
   "outputs": [
    {
     "name": "stderr",
     "output_type": "stream",
     "text": [
      "/Users/jenny/miniconda3/envs/fresnel/lib/python3.7/site-packages/mbuild/compound.py:2415: UserWarning: Guessing that \"<_B pos=(-0.8608,-0.0011, 0.8194), 0 bonds, id: 5089547880>\" is element: \"EP\"\n",
      "  atom, element))\n"
     ]
    },
    {
     "data": {
      "application/3dmoljs_load.v0": "<div id=\"3dmolviewer_1578870497264883\"  style=\"position: relative; width: 640px; height: 480px\">\n        <p id=\"3dmolwarning_1578870497264883\" style=\"background-color:#ffcccc;color:black\">You appear to be running in JupyterLab (or JavaScript failed to load for some other reason).  You need to install the 3dmol extension: <br>\n        <tt>jupyter labextension install jupyterlab_3dmol</tt></p>\n        </div>\n<script>\n\nvar loadScriptAsync = function(uri){\n  return new Promise((resolve, reject) => {\n    var tag = document.createElement('script');\n    tag.src = uri;\n    tag.async = true;\n    tag.onload = () => {\n      resolve();\n    };\n  var firstScriptTag = document.getElementsByTagName('script')[0];\n  firstScriptTag.parentNode.insertBefore(tag, firstScriptTag);\n});\n};\n\nif(typeof $3Dmolpromise === 'undefined') {\n$3Dmolpromise = null;\n  $3Dmolpromise = loadScriptAsync('https://3dmol.csb.pitt.edu/build/3Dmol.js');\n}\n\nvar viewer_1578870497264883 = null;\nvar warn = document.getElementById(\"3dmolwarning_1578870497264883\");\nif(warn) {\n    warn.parentNode.removeChild(warn);\n}\n$3Dmolpromise.then(function() {\nviewer_1578870497264883 = $3Dmol.createViewer($(\"#3dmolviewer_1578870497264883\"),{backgroundColor:\"white\"});\n\tviewer_1578870497264883.addModel(\"@<TRIPOS>MOLECULE\\nRES\\n36 38 1 0 1\\nSMALL\\nNO_CHARGES\\n@<TRIPOS>CRYSIN\\n    5.0736     0.4619    17.1044    90.0000    90.0000    90.0000  1  1\\n@<TRIPOS>ATOM\\n       1 C           -9.1207     0.0414     9.5081 C             1 RES     \\n       2 C           -7.7465    -0.0691     9.2939 C             1 RES     \\n       3 C           -9.9773     0.0996     8.4098 C             1 RES     \\n       4 C           -9.4744     0.0506     7.1024 C             1 RES     \\n       5 H          -10.2112     0.1134     6.3433 H             1 RES     \\n       6 C           -8.0869    -0.0654     6.8535 C             1 RES     \\n       7 C           -7.2418    -0.1222     7.9951 C             1 RES     \\n       8 H           -6.1668    -0.2061     7.8981 H             1 RES     \\n       9 C           -7.9762    -0.0909     4.0763 C             1 RES     \\n      10 C           -9.3373    -0.0775     3.6959 C             1 RES     \\n      11 H          -10.1470    -0.0986     4.3811 H             1 RES     \\n      12 C           -9.7146    -0.0431     2.3440 C             1 RES     \\n      13 H          -10.7697    -0.0310     2.0947 H             1 RES     \\n      14 C           -8.7669    -0.0228     1.3115 C             1 RES     \\n      15 C           -7.4140    -0.0398     1.6788 C             1 RES     \\n      16 H           -6.6062    -0.0232     0.9929 H             1 RES     \\n      17 C           -7.0359    -0.0754     3.0186 C             1 RES     \\n      18 H           -5.9713    -0.0859     3.2146 H             1 RES     \\n      19 H          -11.0449     0.1876     8.5698 H             1 RES     \\n      20 H           -7.0586    -0.1135    10.1292 H             1 RES     \\n      21 C           -7.4092    -0.1218     5.4916 C             1 RES     \\n      22 O           -6.1875    -0.1951     5.5435 O             1 RES     \\n      23 O           -9.2532     0.0171     0.0338 O             1 RES     \\n      24 H           -6.5930    -0.0988    -0.9733 H             1 RES     \\n      25 C           -7.4135    -0.0165    -1.6407 C             1 RES     \\n      26 C           -8.7726     0.0443    -1.2493 C             1 RES     \\n      27 C           -9.7413     0.1406    -2.2638 C             1 RES     \\n      28 H          -10.7913     0.1859    -2.0032 H             1 RES     \\n      29 C           -9.3791     0.1809    -3.6145 C             1 RES     \\n      30 H          -10.1421     0.2558    -4.3785 H             1 RES     \\n      31 C           -8.0352     0.1257    -3.9784 C             1 RES     \\n      32 F           -7.6795     0.1663    -5.2864 F             1 RES     \\n      33 C           -7.0564     0.0265    -2.9928 C             1 RES     \\n      34 H           -6.0115    -0.0186    -3.2746 H             1 RES     \\n      35 O           -9.6343     0.0964    10.7555 O             1 RES     \\n      36 F           -8.8848     0.0569    11.8180 F             1 RES     \\n@<TRIPOS>BOND\\n       1        2        7 1\\n       2       14       15 1\\n       3       29       30 1\\n       4        1        3 1\\n       5       12       14 1\\n       6       15       17 1\\n       7        6       21 1\\n       8       32       31 1\\n       9       25       26 1\\n      10        2       20 1\\n      11       27       28 1\\n      12        9       21 1\\n      13       12       13 1\\n      14       26       27 1\\n      15       33       31 1\\n      16       17       18 1\\n      17        6        7 1\\n      18       21       22 1\\n      19       33       25 1\\n      20       15       16 1\\n      21        9       17 1\\n      22       10       12 1\\n      23       14       23 1\\n      24       34       33 1\\n      25        1       35 1\\n      26       27       29 1\\n      27        3        4 1\\n      28        7        8 1\\n      29       31       29 1\\n      30        4        6 1\\n      31        1        2 1\\n      32        3       19 1\\n      33       35       36 1\\n      34        4        5 1\\n      35       23       26 1\\n      36       24       25 1\\n      37        9       10 1\\n      38       10       11 1\\n@<TRIPOS>SUBSTRUCTURE\\n       1 RES             1 RESIDUE    0 **** ROOT      0\\n\",\"mol2\");\n\tviewer_1578870497264883.setStyle({\"stick\": {\"radius\": 0.2, \"opacity\": 0.6, \"color\": \"grey\"}, \"sphere\": {\"scale\": 0.3, \"opacity\": 0.6, \"colorscheme\": {}}});\n\tviewer_1578870497264883.addModel(\"@<TRIPOS>MOLECULE\\nRES\\n3 2 1 0 1\\nSMALL\\nNO_CHARGES\\n@<TRIPOS>CRYSIN\\n    5.2338     5.1418    15.8171    90.0000    90.0000    90.0000  1  1\\n@<TRIPOS>ATOM\\n       1 _B          -8.6079    -0.0108     8.1938 _B            1 RES     \\n       2 _B          -8.3741    -0.0583     2.6875 _B            1 RES     \\n       3 _B          -8.3997     0.0836    -2.6232 _B            1 RES     \\n@<TRIPOS>BOND\\n       1        2        3 1\\n       2        1        2 1\\n@<TRIPOS>SUBSTRUCTURE\\n       1 RES             1 RESIDUE    0 **** ROOT      0\\n\",\"mol2\");\n\tviewer_1578870497264883.setStyle({\"atom\": [\"_B\", \"_B\", \"_B\"]},{\"stick\": {\"radius\": 0.13999999999999999, \"opacity\": 1, \"color\": \"grey\"}, \"sphere\": {\"scale\": 0.7, \"opacity\": 1, \"colorscheme\": {}}});\n\tviewer_1578870497264883.zoomTo();\nviewer_1578870497264883.render();\n});\n</script>",
      "text/html": [
       "<div id=\"3dmolviewer_1578870497264883\"  style=\"position: relative; width: 640px; height: 480px\">\n",
       "        <p id=\"3dmolwarning_1578870497264883\" style=\"background-color:#ffcccc;color:black\">You appear to be running in JupyterLab (or JavaScript failed to load for some other reason).  You need to install the 3dmol extension: <br>\n",
       "        <tt>jupyter labextension install jupyterlab_3dmol</tt></p>\n",
       "        </div>\n",
       "<script>\n",
       "\n",
       "var loadScriptAsync = function(uri){\n",
       "  return new Promise((resolve, reject) => {\n",
       "    var tag = document.createElement('script');\n",
       "    tag.src = uri;\n",
       "    tag.async = true;\n",
       "    tag.onload = () => {\n",
       "      resolve();\n",
       "    };\n",
       "  var firstScriptTag = document.getElementsByTagName('script')[0];\n",
       "  firstScriptTag.parentNode.insertBefore(tag, firstScriptTag);\n",
       "});\n",
       "};\n",
       "\n",
       "if(typeof $3Dmolpromise === 'undefined') {\n",
       "$3Dmolpromise = null;\n",
       "  $3Dmolpromise = loadScriptAsync('https://3dmol.csb.pitt.edu/build/3Dmol.js');\n",
       "}\n",
       "\n",
       "var viewer_1578870497264883 = null;\n",
       "var warn = document.getElementById(\"3dmolwarning_1578870497264883\");\n",
       "if(warn) {\n",
       "    warn.parentNode.removeChild(warn);\n",
       "}\n",
       "$3Dmolpromise.then(function() {\n",
       "viewer_1578870497264883 = $3Dmol.createViewer($(\"#3dmolviewer_1578870497264883\"),{backgroundColor:\"white\"});\n",
       "\tviewer_1578870497264883.addModel(\"@<TRIPOS>MOLECULE\\nRES\\n36 38 1 0 1\\nSMALL\\nNO_CHARGES\\n@<TRIPOS>CRYSIN\\n    5.0736     0.4619    17.1044    90.0000    90.0000    90.0000  1  1\\n@<TRIPOS>ATOM\\n       1 C           -9.1207     0.0414     9.5081 C             1 RES     \\n       2 C           -7.7465    -0.0691     9.2939 C             1 RES     \\n       3 C           -9.9773     0.0996     8.4098 C             1 RES     \\n       4 C           -9.4744     0.0506     7.1024 C             1 RES     \\n       5 H          -10.2112     0.1134     6.3433 H             1 RES     \\n       6 C           -8.0869    -0.0654     6.8535 C             1 RES     \\n       7 C           -7.2418    -0.1222     7.9951 C             1 RES     \\n       8 H           -6.1668    -0.2061     7.8981 H             1 RES     \\n       9 C           -7.9762    -0.0909     4.0763 C             1 RES     \\n      10 C           -9.3373    -0.0775     3.6959 C             1 RES     \\n      11 H          -10.1470    -0.0986     4.3811 H             1 RES     \\n      12 C           -9.7146    -0.0431     2.3440 C             1 RES     \\n      13 H          -10.7697    -0.0310     2.0947 H             1 RES     \\n      14 C           -8.7669    -0.0228     1.3115 C             1 RES     \\n      15 C           -7.4140    -0.0398     1.6788 C             1 RES     \\n      16 H           -6.6062    -0.0232     0.9929 H             1 RES     \\n      17 C           -7.0359    -0.0754     3.0186 C             1 RES     \\n      18 H           -5.9713    -0.0859     3.2146 H             1 RES     \\n      19 H          -11.0449     0.1876     8.5698 H             1 RES     \\n      20 H           -7.0586    -0.1135    10.1292 H             1 RES     \\n      21 C           -7.4092    -0.1218     5.4916 C             1 RES     \\n      22 O           -6.1875    -0.1951     5.5435 O             1 RES     \\n      23 O           -9.2532     0.0171     0.0338 O             1 RES     \\n      24 H           -6.5930    -0.0988    -0.9733 H             1 RES     \\n      25 C           -7.4135    -0.0165    -1.6407 C             1 RES     \\n      26 C           -8.7726     0.0443    -1.2493 C             1 RES     \\n      27 C           -9.7413     0.1406    -2.2638 C             1 RES     \\n      28 H          -10.7913     0.1859    -2.0032 H             1 RES     \\n      29 C           -9.3791     0.1809    -3.6145 C             1 RES     \\n      30 H          -10.1421     0.2558    -4.3785 H             1 RES     \\n      31 C           -8.0352     0.1257    -3.9784 C             1 RES     \\n      32 F           -7.6795     0.1663    -5.2864 F             1 RES     \\n      33 C           -7.0564     0.0265    -2.9928 C             1 RES     \\n      34 H           -6.0115    -0.0186    -3.2746 H             1 RES     \\n      35 O           -9.6343     0.0964    10.7555 O             1 RES     \\n      36 F           -8.8848     0.0569    11.8180 F             1 RES     \\n@<TRIPOS>BOND\\n       1        2        7 1\\n       2       14       15 1\\n       3       29       30 1\\n       4        1        3 1\\n       5       12       14 1\\n       6       15       17 1\\n       7        6       21 1\\n       8       32       31 1\\n       9       25       26 1\\n      10        2       20 1\\n      11       27       28 1\\n      12        9       21 1\\n      13       12       13 1\\n      14       26       27 1\\n      15       33       31 1\\n      16       17       18 1\\n      17        6        7 1\\n      18       21       22 1\\n      19       33       25 1\\n      20       15       16 1\\n      21        9       17 1\\n      22       10       12 1\\n      23       14       23 1\\n      24       34       33 1\\n      25        1       35 1\\n      26       27       29 1\\n      27        3        4 1\\n      28        7        8 1\\n      29       31       29 1\\n      30        4        6 1\\n      31        1        2 1\\n      32        3       19 1\\n      33       35       36 1\\n      34        4        5 1\\n      35       23       26 1\\n      36       24       25 1\\n      37        9       10 1\\n      38       10       11 1\\n@<TRIPOS>SUBSTRUCTURE\\n       1 RES             1 RESIDUE    0 **** ROOT      0\\n\",\"mol2\");\n",
       "\tviewer_1578870497264883.setStyle({\"stick\": {\"radius\": 0.2, \"opacity\": 0.6, \"color\": \"grey\"}, \"sphere\": {\"scale\": 0.3, \"opacity\": 0.6, \"colorscheme\": {}}});\n",
       "\tviewer_1578870497264883.addModel(\"@<TRIPOS>MOLECULE\\nRES\\n3 2 1 0 1\\nSMALL\\nNO_CHARGES\\n@<TRIPOS>CRYSIN\\n    5.2338     5.1418    15.8171    90.0000    90.0000    90.0000  1  1\\n@<TRIPOS>ATOM\\n       1 _B          -8.6079    -0.0108     8.1938 _B            1 RES     \\n       2 _B          -8.3741    -0.0583     2.6875 _B            1 RES     \\n       3 _B          -8.3997     0.0836    -2.6232 _B            1 RES     \\n@<TRIPOS>BOND\\n       1        2        3 1\\n       2        1        2 1\\n@<TRIPOS>SUBSTRUCTURE\\n       1 RES             1 RESIDUE    0 **** ROOT      0\\n\",\"mol2\");\n",
       "\tviewer_1578870497264883.setStyle({\"atom\": [\"_B\", \"_B\", \"_B\"]},{\"stick\": {\"radius\": 0.13999999999999999, \"opacity\": 1, \"color\": \"grey\"}, \"sphere\": {\"scale\": 0.7, \"opacity\": 1, \"colorscheme\": {}}});\n",
       "\tviewer_1578870497264883.zoomTo();\n",
       "viewer_1578870497264883.render();\n",
       "});\n",
       "</script>"
      ]
     },
     "metadata": {},
     "output_type": "display_data"
    }
   ],
   "source": [
    "cg_peek.add_bond((cg_peek[0],cg_peek[1]))\n",
    "cg_peek.add_bond((cg_peek[1],cg_peek[2]))\n",
    "cg_peek.visualize(show_atomistic=True).show()"
   ]
  },
  {
   "cell_type": "code",
   "execution_count": 10,
   "metadata": {},
   "outputs": [],
   "source": [
    "cg_scene = utils.draw_scene(cg_peek, color=\"viridis\", show_atomistic=True)\n",
    "cg_scene.camera = good_camera"
   ]
  },
  {
   "cell_type": "code",
   "execution_count": 11,
   "metadata": {},
   "outputs": [],
   "source": [
    "output = fresnel.pathtrace(cg_scene, light_samples=40, w=600, h=600)\n",
    "filename = \"cgpeek_scene1.png\"\n",
    "\n",
    "image = PIL.Image.fromarray(output[:], mode='RGBA')\n",
    "image.save(filename, dpi=(300, 300))"
   ]
  },
  {
   "cell_type": "code",
   "execution_count": 12,
   "metadata": {},
   "outputs": [],
   "source": [
    "cg_peek.remove(cg_peek[2])\n",
    "cg_peek.remove(cg_peek[0])"
   ]
  },
  {
   "cell_type": "code",
   "execution_count": 13,
   "metadata": {},
   "outputs": [],
   "source": [
    "cg_scene = utils.draw_scene(cg_peek, cg_scale=12, show_atomistic=True)\n",
    "cg_scene.camera = good_camera"
   ]
  },
  {
   "cell_type": "code",
   "execution_count": 14,
   "metadata": {},
   "outputs": [
    {
     "data": {
      "text/html": [
       "<p><i>scene view opened in a new window...</i></p>"
      ],
      "text/plain": [
       "<fresnel.interact.SceneView at 0x12f62a0c8>"
      ]
     },
     "execution_count": 14,
     "metadata": {},
     "output_type": "execute_result"
    }
   ],
   "source": [
    "fresnel.interact.SceneView(cg_scene)"
   ]
  },
  {
   "cell_type": "code",
   "execution_count": 15,
   "metadata": {},
   "outputs": [],
   "source": [
    "output = fresnel.pathtrace(cg_scene, light_samples=40, w=600, h=600)\n",
    "filename = \"cgpeek_scene2.png\"\n",
    "\n",
    "image = PIL.Image.fromarray(output[:], mode='RGBA')\n",
    "image.save(filename, dpi=(300, 300))"
   ]
  },
  {
   "cell_type": "code",
   "execution_count": null,
   "metadata": {},
   "outputs": [],
   "source": [
    "class PEEK(mb.Compound):\n",
    "    def __init__(self):\n",
    "        super(PEEK, self).__init__()\n",
    "        mb.load(\"peek_opt.mol2\", compound=self)\n",
    "        # replace the fluorines with ports\n",
    "        f_bonds = [ b for b in self.bonds() if b[0].name == \"F\" or b[1].name == \"F\" ]\n",
    "        for pair in f_bonds:\n",
    "            if pair[0].name == \"F\":\n",
    "                f = pair[0]\n",
    "                anchor = pair[1]\n",
    "            else:\n",
    "                f = pair[1]\n",
    "                anchor = pair[0]\n",
    "            orientation = f.pos - anchor.pos\n",
    "            # half the length of the f_bond\n",
    "            separation = np.linalg.norm(orientation)/2\n",
    "            self.remove(f)\n",
    "            if anchor.name == \"O\":\n",
    "                self.add(mb.Port(anchor=anchor, orientation=orientation, separation=separation), label='up')\n",
    "            else:\n",
    "                self.add(mb.Port(anchor=anchor, orientation=orientation, separation=separation), label='down')\n",
    "\n",
    "class H(mb.Compound):\n",
    "    def __init__(self):\n",
    "        super(H, self).__init__()\n",
    "        self.add(mb.Particle(name='H', pos=[0,0,0]))\n",
    "        self.add(mb.Port(anchor=self[0]), label='up')\n",
    "        mb.translate(self['up'], [0, -0.154/2, 0]) "
   ]
  },
  {
   "cell_type": "code",
   "execution_count": null,
   "metadata": {},
   "outputs": [],
   "source": [
    "peek = PEEK()\n",
    "peek.visualize(show_ports=True).show()"
   ]
  },
  {
   "cell_type": "code",
   "execution_count": null,
   "metadata": {},
   "outputs": [],
   "source": [
    "class PEEK_Polymer(mb.Compound):\n",
    "    def __init__(self, chain_length=1):\n",
    "        super(PEEK_Polymer, self).__init__()\n",
    "        last_monomer = PEEK()\n",
    "        self.add(last_monomer)\n",
    "        # add hydrogens on end caps\n",
    "        end_h = H()\n",
    "        mb.force_overlap(move_this=end_h, \n",
    "                 from_positions=end_h['up'], \n",
    "                 to_positions=last_monomer['down'])\n",
    "        self.add(end_h)\n",
    "        \n",
    "        for i in range (chain_length-1):\n",
    "            current_monomer = PEEK()\n",
    "\n",
    "            mb.force_overlap(move_this=current_monomer, \n",
    "                             from_positions=current_monomer['down'], \n",
    "                             to_positions=last_monomer['up'])\n",
    "            self.add(current_monomer)\n",
    "            last_monomer=current_monomer\n",
    "            \n",
    "        # add end h\n",
    "        end_h = H()\n",
    "        mb.force_overlap(move_this=end_h, \n",
    "                         from_positions=end_h['up'], \n",
    "                         to_positions=last_monomer['up'])\n",
    "        self.add(end_h)"
   ]
  },
  {
   "cell_type": "code",
   "execution_count": null,
   "metadata": {},
   "outputs": [],
   "source": [
    "polymer = PEEK_Polymer(5)\n",
    "polymer.visualize().show()"
   ]
  },
  {
   "cell_type": "code",
   "execution_count": null,
   "metadata": {},
   "outputs": [],
   "source": [
    "# convert to pybel mol\n",
    "mol = polymer.to_pybel()\n",
    "\n",
    "# to_pybel imports all bonds as order=1, this will type the bond correctly\n",
    "# if the structure is good\n",
    "mol.OBMol.PerceiveBondOrders()\n",
    "\n",
    "\n",
    "cg_peek = utils.coarse(mol, [(\"_B\",\"O=C(c1ccccc1)\"),(\"_A\", \"Oc1ccccc1\")])\n"
   ]
  },
  {
   "cell_type": "code",
   "execution_count": null,
   "metadata": {},
   "outputs": [],
   "source": [
    "cg_peek.visualize(show_atomistic=True)"
   ]
  },
  {
   "cell_type": "code",
   "execution_count": null,
   "metadata": {},
   "outputs": [],
   "source": []
  }
 ],
 "metadata": {
  "kernelspec": {
   "display_name": "Python 3",
   "language": "python",
   "name": "python3"
  },
  "language_info": {
   "codemirror_mode": {
    "name": "ipython",
    "version": 3
   },
   "file_extension": ".py",
   "mimetype": "text/x-python",
   "name": "python",
   "nbconvert_exporter": "python",
   "pygments_lexer": "ipython3",
   "version": "3.7.6"
  }
 },
 "nbformat": 4,
 "nbformat_minor": 4
}
