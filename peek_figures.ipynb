{
 "cells": [
  {
   "cell_type": "code",
   "execution_count": 1,
   "metadata": {},
   "outputs": [],
   "source": [
    "from PySide2 import QtCore\n",
    "%gui qt"
   ]
  },
  {
   "cell_type": "code",
   "execution_count": 2,
   "metadata": {},
   "outputs": [
    {
     "name": "stderr",
     "output_type": "stream",
     "text": [
      "/Users/jenny/miniconda3/envs/grits/lib/python3.7/site-packages/hoomd/meta.py:26: DeprecationWarning: Using or importing the ABCs from 'collections' instead of from 'collections.abc' is deprecated since Python 3.3,and in 3.9 it will stop working\n",
      "  from collections import Mapping\n"
     ]
    }
   ],
   "source": [
    "import mbuild as mb\n",
    "import numpy as np\n",
    "import fresnel\n",
    "import fresnel.interact\n",
    "import PIL\n",
    "\n",
    "import utils\n",
    "from cg_compound import CG_Compound\n",
    "from draw_scene import visualize"
   ]
  },
  {
   "cell_type": "code",
   "execution_count": 84,
   "metadata": {},
   "outputs": [
    {
     "name": "stderr",
     "output_type": "stream",
     "text": [
      "/Users/jenny/miniconda3/envs/grits/lib/python3.7/site-packages/mbuild/compound.py:2443: UserWarning: Guessing that \"<_A pos=( 0.1682, 0.0061, 0.0042), 0 bonds, id: 5043890576>\" is element: \"EP\"\n",
      "  atom, element))\n",
      "/Users/jenny/miniconda3/envs/grits/lib/python3.7/site-packages/mbuild/compound.py:2443: UserWarning: Guessing that \"<_B pos=( 0.3739, 0.1324, 0.0748), 0 bonds, id: 5043890832>\" is element: \"EP\"\n",
      "  atom, element))\n"
     ]
    }
   ],
   "source": [
    "hexane = mb.load(\"CCCCCC\", smiles=True)\n",
    "hexvis = hexane.visualize()\n",
    "\n",
    "# convert to pybel mol\n",
    "mol = hexane.to_pybel()\n",
    "\n",
    "# to_pybel imports all bonds as order=1, this will type the bond correctly\n",
    "# if the structure is good\n",
    "mol.OBMol.PerceiveBondOrders()\n",
    "\n",
    "hexane_sites = [(\"_A\", \"C[CH3]\"), (\"_B\", \"CC\")]\n",
    "cg_hexane = utils.coarse(mol, hexane_sites)\n",
    "\n",
    "cghexvis = cg_hexane.visualize(\n",
    "    show_atomistic=True, color_scheme={\"_A\": \"blue\", \"_B\": \"orange\"}\n",
    ")"
   ]
  },
  {
   "cell_type": "code",
   "execution_count": 204,
   "metadata": {},
   "outputs": [],
   "source": [
    "%%capture png\n",
    "hexvis = hexane.visualize()\n",
    "hexvis.show()\n",
    "hexvis.rotate(-30,\"z\")\n",
    "hexvis.rotate(20,\"y\")\n",
    "hexvis.rotate(-20,\"x\")\n",
    "hexvis.zoom(1.4)\n",
    "hexvis.show()\n",
    "hexvis.png()"
   ]
  },
  {
   "cell_type": "code",
   "execution_count": 205,
   "metadata": {},
   "outputs": [],
   "source": [
    "%%capture png2\n",
    "cghexvis = cg_hexane.visualize(\n",
    "    show_atomistic=True, color_scheme={\"_A\": \"blue\", \"_B\": \"orange\"}\n",
    ")\n",
    "cghexvis.show()\n",
    "cghexvis.rotate(-30,\"z\")\n",
    "cghexvis.rotate(20,\"y\")\n",
    "cghexvis.rotate(-20,\"x\")\n",
    "cghexvis.zoom(1.4)\n",
    "cghexvis.show()\n",
    "cghexvis.png()"
   ]
  },
  {
   "cell_type": "code",
   "execution_count": 215,
   "metadata": {},
   "outputs": [],
   "source": [
    "png.outputs[0]\n",
    "png.outputs[1]\n",
    "im = png.outputs[2]"
   ]
  },
  {
   "cell_type": "code",
   "execution_count": 211,
   "metadata": {},
   "outputs": [],
   "source": [
    "png2.outputs[0]\n",
    "png2.outputs[1]\n",
    "im2 = png2.outputs[2]"
   ]
  },
  {
   "cell_type": "code",
   "execution_count": 216,
   "metadata": {},
   "outputs": [
    {
     "data": {
      "application/3dmoljs_load.v0": "<img id=\"img_1597689471531745\">\n            <script>\n            var png = viewer_1597689471531745.pngURI()\n            $('#img_1597689471531745').attr('src', png)\n            </script>",
      "text/html": [
       "<img id=\"img_1597689471531745\">\n",
       "            <script>\n",
       "            var png = viewer_1597689471531745.pngURI()\n",
       "            $('#img_1597689471531745').attr('src', png)\n",
       "            </script>"
      ],
      "text/plain": [
       "<IPython.utils.capture.RichOutput at 0x12cb7a610>"
      ]
     },
     "execution_count": 216,
     "metadata": {},
     "output_type": "execute_result"
    }
   ],
   "source": [
    "im"
   ]
  },
  {
   "cell_type": "code",
   "execution_count": 212,
   "metadata": {},
   "outputs": [
    {
     "data": {
      "application/3dmoljs_load.v0": "<img id=\"img_1597689472389993\">\n            <script>\n            var png = viewer_1597689472389993.pngURI()\n            $('#img_1597689472389993').attr('src', png)\n            </script>",
      "text/html": [
       "<img id=\"img_1597689472389993\">\n",
       "            <script>\n",
       "            var png = viewer_1597689472389993.pngURI()\n",
       "            $('#img_1597689472389993').attr('src', png)\n",
       "            </script>"
      ],
      "text/plain": [
       "<IPython.utils.capture.RichOutput at 0x12c91a1d0>"
      ]
     },
     "execution_count": 212,
     "metadata": {},
     "output_type": "execute_result"
    }
   ],
   "source": [
    "im2"
   ]
  },
  {
   "cell_type": "code",
   "execution_count": 42,
   "metadata": {},
   "outputs": [],
   "source": [
    "scene = utils.draw_scene(cg_hexane, color=\"spring\", show_atomistic=True)"
   ]
  },
  {
   "cell_type": "code",
   "execution_count": 28,
   "metadata": {},
   "outputs": [],
   "source": [
    "view = fresnel.interact.SceneView(scene)\n",
    "view.show()"
   ]
  },
  {
   "cell_type": "code",
   "execution_count": 29,
   "metadata": {},
   "outputs": [],
   "source": [
    "output = fresnel.pathtrace(scene, light_samples=40, w=600, h=600)\n",
    "filename = \"hexane_scene.png\"\n",
    "\n",
    "image = PIL.Image.fromarray(output[:], mode='RGBA')\n",
    "image.save(filename, dpi=(300, 300))"
   ]
  },
  {
   "cell_type": "code",
   "execution_count": 3,
   "metadata": {},
   "outputs": [],
   "source": [
    "peek = mb.load(\"peek_opt.mol2\")\n",
    "#print(peek.n_particles)\n",
    "#print(peek.n_bonds)\n",
    "#peek.visualize()"
   ]
  },
  {
   "cell_type": "code",
   "execution_count": null,
   "metadata": {},
   "outputs": [],
   "source": [
    "scene = utils.draw_scene(peek)\n",
    "scene.camera = fresnel.camera.orthographic(\n",
    "    position=(-0.7705824971199036, -0.820938766002655, 0.3231777548789978), \n",
    "    look_at=(-0.8508099913597107, -0.0007099993526935577, 0.3265799880027771), \n",
    "    up=(0.9950225353240967, 0.09723380208015442, 0.021809743717312813), \n",
    "    height=1.7\n",
    ")"
   ]
  },
  {
   "cell_type": "code",
   "execution_count": null,
   "metadata": {},
   "outputs": [],
   "source": [
    "output = fresnel.pathtrace(scene, light_samples=40, w=600, h=600)\n",
    "output"
   ]
  },
  {
   "cell_type": "code",
   "execution_count": null,
   "metadata": {},
   "outputs": [],
   "source": [
    "good_camera = scene.camera"
   ]
  },
  {
   "cell_type": "code",
   "execution_count": null,
   "metadata": {},
   "outputs": [],
   "source": [
    "filename = \"peek_scene.png\"\n",
    "\n",
    "image = PIL.Image.fromarray(output[:], mode='RGBA')\n",
    "image.save(filename, dpi=(300, 300))"
   ]
  },
  {
   "cell_type": "code",
   "execution_count": null,
   "metadata": {},
   "outputs": [],
   "source": [
    "# convert to pybel mol\n",
    "mol = peek.to_pybel()\n",
    "\n",
    "# to_pybel imports all bonds as order=1, this will type the bond correctly\n",
    "# if the structure is good\n",
    "mol.OBMol.PerceiveBondOrders()\n",
    "\n",
    "\n",
    "cg_peek = utils.coarse(mol, [(\"_B\",\"c1ccccc1\")])"
   ]
  },
  {
   "cell_type": "code",
   "execution_count": null,
   "metadata": {},
   "outputs": [],
   "source": [
    "cg_peek.add_bond((cg_peek[0],cg_peek[1]))\n",
    "cg_peek.add_bond((cg_peek[1],cg_peek[2]))\n",
    "cg_peek[1].name = \"_A\"\n",
    "#cg_peek.visualize(show_atomistic=True).show()"
   ]
  },
  {
   "cell_type": "code",
   "execution_count": null,
   "metadata": {},
   "outputs": [],
   "source": [
    "cg_scene = utils.draw_scene(cg_peek, color=\"bsu\", show_atomistic=True)\n",
    "cg_scene.camera = good_camera"
   ]
  },
  {
   "cell_type": "code",
   "execution_count": null,
   "metadata": {},
   "outputs": [],
   "source": [
    "output = fresnel.pathtrace(cg_scene, light_samples=40, w=600, h=600)\n",
    "output"
   ]
  },
  {
   "cell_type": "code",
   "execution_count": null,
   "metadata": {},
   "outputs": [],
   "source": [
    "filename = \"cgpeek_scene1.png\"\n",
    "\n",
    "image = PIL.Image.fromarray(output[:], mode='RGBA')\n",
    "image.save(filename, dpi=(300, 300))"
   ]
  },
  {
   "cell_type": "code",
   "execution_count": null,
   "metadata": {},
   "outputs": [],
   "source": [
    "cg_peek.remove(cg_peek[2])\n",
    "cg_peek.remove(cg_peek[0])"
   ]
  },
  {
   "cell_type": "code",
   "execution_count": null,
   "metadata": {},
   "outputs": [],
   "source": [
    "cg_scene = utils.draw_scene(cg_peek, color=\"bsu\", cg_scale=12, show_atomistic=True)\n",
    "cg_scene.camera = good_camera"
   ]
  },
  {
   "cell_type": "code",
   "execution_count": null,
   "metadata": {},
   "outputs": [],
   "source": [
    "output = fresnel.pathtrace(cg_scene, light_samples=40, w=600, h=600)\n",
    "output"
   ]
  },
  {
   "cell_type": "code",
   "execution_count": null,
   "metadata": {},
   "outputs": [],
   "source": [
    "filename = \"cgpeek_scene2.png\"\n",
    "\n",
    "image = PIL.Image.fromarray(output[:], mode='RGBA')\n",
    "image.save(filename, dpi=(300, 300))"
   ]
  },
  {
   "cell_type": "code",
   "execution_count": null,
   "metadata": {},
   "outputs": [],
   "source": [
    "class PEEK(mb.Compound):\n",
    "    def __init__(self):\n",
    "        super(PEEK, self).__init__()\n",
    "        mb.load(\"peek_opt.mol2\", compound=self)\n",
    "        # replace the fluorines with ports\n",
    "        f_bonds = [ b for b in self.bonds() if b[0].name == \"F\" or b[1].name == \"F\" ]\n",
    "        for pair in f_bonds:\n",
    "            if pair[0].name == \"F\":\n",
    "                f = pair[0]\n",
    "                anchor = pair[1]\n",
    "            else:\n",
    "                f = pair[1]\n",
    "                anchor = pair[0]\n",
    "            orientation = f.pos - anchor.pos\n",
    "            # half the length of the f_bond\n",
    "            separation = np.linalg.norm(orientation)/2\n",
    "            self.remove(f)\n",
    "            if anchor.name == \"O\":\n",
    "                self.add(mb.Port(anchor=anchor, orientation=orientation, separation=separation), label='up')\n",
    "            else:\n",
    "                self.add(mb.Port(anchor=anchor, orientation=orientation, separation=separation), label='down')\n",
    "\n",
    "class H(mb.Compound):\n",
    "    def __init__(self):\n",
    "        super(H, self).__init__()\n",
    "        self.add(mb.Particle(name='H', pos=[0,0,0]))\n",
    "        self.add(mb.Port(anchor=self[0]), label='up')\n",
    "        mb.translate(self['up'], [0, -0.154/2, 0]) "
   ]
  },
  {
   "cell_type": "code",
   "execution_count": null,
   "metadata": {},
   "outputs": [],
   "source": [
    "peek = PEEK()\n",
    "peek.visualize(show_ports=True).show()"
   ]
  },
  {
   "cell_type": "code",
   "execution_count": null,
   "metadata": {},
   "outputs": [],
   "source": [
    "class PEEK_Polymer(mb.Compound):\n",
    "    def __init__(self, chain_length=1):\n",
    "        super(PEEK_Polymer, self).__init__()\n",
    "        last_monomer = PEEK()\n",
    "        self.add(last_monomer)\n",
    "        # add hydrogens on end caps\n",
    "        end_h = H()\n",
    "        mb.force_overlap(move_this=end_h, \n",
    "                 from_positions=end_h['up'], \n",
    "                 to_positions=last_monomer['down'])\n",
    "        self.add(end_h)\n",
    "        \n",
    "        for i in range (chain_length-1):\n",
    "            current_monomer = PEEK()\n",
    "\n",
    "            mb.force_overlap(move_this=current_monomer, \n",
    "                             from_positions=current_monomer['down'], \n",
    "                             to_positions=last_monomer['up'])\n",
    "            self.add(current_monomer)\n",
    "            last_monomer=current_monomer\n",
    "            \n",
    "        # add end h\n",
    "        end_h = H()\n",
    "        mb.force_overlap(move_this=end_h, \n",
    "                         from_positions=end_h['up'], \n",
    "                         to_positions=last_monomer['up'])\n",
    "        self.add(end_h)"
   ]
  },
  {
   "cell_type": "code",
   "execution_count": null,
   "metadata": {},
   "outputs": [],
   "source": [
    "polymer = PEEK_Polymer(5)\n",
    "polymer.visualize().show()"
   ]
  },
  {
   "cell_type": "code",
   "execution_count": null,
   "metadata": {},
   "outputs": [],
   "source": [
    "# convert to pybel mol\n",
    "mol = polymer.to_pybel()\n",
    "\n",
    "# to_pybel imports all bonds as order=1, this will type the bond correctly\n",
    "# if the structure is good\n",
    "mol.OBMol.PerceiveBondOrders()\n",
    "\n",
    "\n",
    "cg_peek = utils.coarse(mol, [(\"_B\",\"O=C(c1ccccc1)\"),(\"_A\", \"Oc1ccccc1\")])\n"
   ]
  },
  {
   "cell_type": "code",
   "execution_count": null,
   "metadata": {},
   "outputs": [],
   "source": [
    "cg_peek.visualize(show_atomistic=True)"
   ]
  },
  {
   "cell_type": "code",
   "execution_count": null,
   "metadata": {},
   "outputs": [],
   "source": []
  }
 ],
 "metadata": {
  "kernelspec": {
   "display_name": "Python 3",
   "language": "python",
   "name": "python3"
  },
  "language_info": {
   "codemirror_mode": {
    "name": "ipython",
    "version": 3
   },
   "file_extension": ".py",
   "mimetype": "text/x-python",
   "name": "python",
   "nbconvert_exporter": "python",
   "pygments_lexer": "ipython3",
   "version": "3.7.6"
  }
 },
 "nbformat": 4,
 "nbformat_minor": 4
}
