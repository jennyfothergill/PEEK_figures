{
 "cells": [
  {
   "cell_type": "code",
   "execution_count": 1,
   "metadata": {},
   "outputs": [],
   "source": [
    "from PySide2 import QtCore\n",
    "%gui qt"
   ]
  },
  {
   "cell_type": "code",
   "execution_count": 37,
   "metadata": {},
   "outputs": [],
   "source": [
    "import mbuild as mb\n",
    "import numpy as np\n",
    "import fresnel\n",
    "import fresnel.interact\n",
    "import PIL\n",
    "\n",
    "from draw_scene import visualize"
   ]
  },
  {
   "cell_type": "code",
   "execution_count": 39,
   "metadata": {},
   "outputs": [],
   "source": [
    "peek = mb.load(\"peek_opt.mol2\")\n",
    "#print(peek.n_particles)\n",
    "#print(peek.n_bonds)\n",
    "#peek.visualize()"
   ]
  },
  {
   "cell_type": "code",
   "execution_count": 4,
   "metadata": {},
   "outputs": [],
   "source": [
    "scene = visualize(peek)"
   ]
  },
  {
   "cell_type": "code",
   "execution_count": 8,
   "metadata": {},
   "outputs": [
    {
     "data": {
      "text/html": [
       "<p><i>scene view opened in a new window...</i></p>"
      ],
      "text/plain": [
       "<fresnel.interact.SceneView at 0x11f065c48>"
      ]
     },
     "execution_count": 8,
     "metadata": {},
     "output_type": "execute_result"
    }
   ],
   "source": [
    "fresnel.interact.SceneView(scene)"
   ]
  },
  {
   "cell_type": "code",
   "execution_count": 9,
   "metadata": {},
   "outputs": [
    {
     "data": {
      "text/plain": [
       "fresnel.camera.orthographic(position=(-0.9076523780822754, -0.788057267665863, 0.25833243131637573), look_at=(-0.8491349220275879, 0.00017999857664108276, 0.26984497904777527), up=(0.9969024062156677, -0.07438167184591293, 0.025554832071065903), height=1.7451385259628296)"
      ]
     },
     "execution_count": 9,
     "metadata": {},
     "output_type": "execute_result"
    }
   ],
   "source": [
    "scene.camera"
   ]
  },
  {
   "cell_type": "code",
   "execution_count": 10,
   "metadata": {},
   "outputs": [],
   "source": [
    "output = fresnel.pathtrace(scene, light_samples=40, w=600, h=600)\n",
    "filename = \"peek_scene.png\"\n",
    "\n",
    "image = PIL.Image.fromarray(output[:], mode='RGBA')\n",
    "image.save(filename, dpi=(300, 300))"
   ]
  },
  {
   "cell_type": "code",
   "execution_count": 40,
   "metadata": {},
   "outputs": [],
   "source": [
    "# replace the fluorines with ports\n",
    "f_bonds = [ b for b in peek.bonds() if b[0].name == \"F\" or b[1].name == \"F\" ]\n",
    "for pair in f_bonds:\n",
    "    if pair[0].name == \"F\":\n",
    "        f = pair[0]\n",
    "        anchor = pair[1]\n",
    "    else:\n",
    "        f = pair[1]\n",
    "        anchor = pair[0]\n",
    "    orientation = f.pos - anchor.pos\n",
    "    # half the length of the f_bond\n",
    "    separation = np.linalg.norm(orientation)/2\n",
    "    peek.remove(f)\n",
    "    peek.add(mb.Port(anchor=anchor, orientation=orientation, separation=separation))"
   ]
  },
  {
   "cell_type": "code",
   "execution_count": 45,
   "metadata": {},
   "outputs": [
    {
     "data": {
      "application/3dmoljs_load.v0": "<div id=\"3dmolviewer_1578701902531358\"  style=\"position: relative; width: 640px; height: 480px\">\n        <p id=\"3dmolwarning_1578701902531358\" style=\"background-color:#ffcccc;color:black\">You appear to be running in JupyterLab (or JavaScript failed to load for some other reason).  You need to install the 3dmol extension: <br>\n        <tt>jupyter labextension install jupyterlab_3dmol</tt></p>\n        </div>\n<script>\n\nvar loadScriptAsync = function(uri){\n  return new Promise((resolve, reject) => {\n    var tag = document.createElement('script');\n    tag.src = uri;\n    tag.async = true;\n    tag.onload = () => {\n      resolve();\n    };\n  var firstScriptTag = document.getElementsByTagName('script')[0];\n  firstScriptTag.parentNode.insertBefore(tag, firstScriptTag);\n});\n};\n\nif(typeof $3Dmolpromise === 'undefined') {\n$3Dmolpromise = null;\n  $3Dmolpromise = loadScriptAsync('https://3dmol.csb.pitt.edu/build/3Dmol.js');\n}\n\nvar viewer_1578701902531358 = null;\nvar warn = document.getElementById(\"3dmolwarning_1578701902531358\");\nif(warn) {\n    warn.parentNode.removeChild(warn);\n}\n$3Dmolpromise.then(function() {\nviewer_1578701902531358 = $3Dmol.createViewer($(\"#3dmolviewer_1578701902531358\"),{backgroundColor:\"white\"});\n\tviewer_1578701902531358.addModel(\"@<TRIPOS>MOLECULE\\nRES\\n65 35 2 0 1\\nBIOPOLYMER\\nNO_CHARGES\\n@<TRIPOS>CRYSIN\\n   10.0741     5.5078    19.5075    90.0000    90.0000    90.0000  1  1\\n@<TRIPOS>ATOM\\n       1 C           -9.1048    -0.0012     9.4613 C             1 RES     \\n       2 C           -7.7360    -0.1147     9.2548 C             1 RES     \\n       3 C           -9.9622     0.0793     8.3674 C             1 RES     \\n       4 C           -9.4568     0.0465     7.0606 C             1 RES     \\n       5 H          -10.1917     0.1277     6.3016 H             1 RES     \\n       6 C           -8.0686    -0.0759     6.8135 C             1 RES     \\n       7 C           -7.2259    -0.1522     7.9569 C             1 RES     \\n       8 H           -6.1512    -0.2406     7.8615 H             1 RES     \\n       9 C           -7.9575    -0.0874     4.0373 C             1 RES     \\n      10 C           -9.3191    -0.0913     3.6601 C             1 RES     \\n      11 H          -10.1273    -0.1286     4.3462 H             1 RES     \\n      12 C           -9.7002    -0.0561     2.3096 C             1 RES     \\n      13 H          -10.7559    -0.0573     2.0631 H             1 RES     \\n      14 C           -8.7554    -0.0194     1.2760 C             1 RES     \\n      15 C           -7.4013    -0.0184     1.6385 C             1 RES     \\n      16 H           -6.5961     0.0141     0.9496 H             1 RES     \\n      17 C           -7.0193    -0.0546     2.9781 C             1 RES     \\n      18 H           -5.9543    -0.0519     3.1724 H             1 RES     \\n      19 H          -11.0284     0.1714     8.5316 H             1 RES     \\n      20 H           -7.0625    -0.1734    10.1007 H             1 RES     \\n      21 C           -7.3891    -0.1192     5.4521 C             1 RES     \\n      22 O           -6.1671    -0.1839     5.5038 O             1 RES     \\n      23 O           -9.2470     0.0181    -0.0006 O             1 RES     \\n      24 H           -6.5931    -0.1155    -1.0162 H             1 RES     \\n      25 C           -7.4150    -0.0246    -1.6816 C             1 RES     \\n      26 C           -8.7721     0.0447    -1.2840 C             1 RES     \\n      27 C           -9.7446     0.1476    -2.2946 C             1 RES     \\n      28 H          -10.7932     0.1980    -2.0287 H             1 RES     \\n      29 C           -9.3884     0.1875    -3.6463 C             1 RES     \\n      30 H          -10.1545     0.2672    -4.4068 H             1 RES     \\n      31 C           -8.0463     0.1256    -4.0164 C             1 RES     \\n      32 C           -7.0636     0.0189    -3.0349 C             1 RES     \\n      33 H           -6.0203    -0.0320    -3.3217 H             1 RES     \\n      34 VS          -9.3263     0.0591    10.1279 VS            2 PRT     \\n      35 VS          -9.3994     0.0644    10.3140 VS            2 PRT     \\n      36 VS          -9.4638    -0.0166     9.9686 VS            2 PRT     \\n      37 VS          -9.2201    -0.0393     9.9575 VS            2 PRT     \\n      38 VS          -9.3089    -0.0253    10.0834 VS            2 PRT     \\n      39 VS          -9.2358    -0.0306     9.8973 VS            2 PRT     \\n      40 VS          -9.5180     0.0504    10.1066 VS            2 PRT     \\n      41 VS          -9.3470     0.0731    10.2806 VS            2 PRT     \\n      42 VS          -7.8242     0.1096    -4.6855 VS            2 PRT     \\n      43 VS          -7.7726     0.1156    -4.8786 VS            2 PRT     \\n      44 VS          -8.0371     0.1582    -4.6373 VS            2 PRT     \\n      45 VS          -7.8516     0.2002    -4.4829 VS            2 PRT     \\n      46 VS          -7.8377     0.1822    -4.6351 VS            2 PRT     \\n      47 VS          -7.8893     0.1762    -4.4419 VS            2 PRT     \\n      48 VS          -7.9982     0.1336    -4.7830 VS            2 PRT     \\n      49 VS          -7.7604     0.0916    -4.8244 VS            2 PRT     \\n      50 VS          -9.3263     0.0591    10.1279 VS            2 PRT     \\n      51 VS          -9.3994     0.0644    10.3140 VS            2 PRT     \\n      52 VS          -9.4638    -0.0166     9.9686 VS            2 PRT     \\n      53 VS          -9.2201    -0.0393     9.9575 VS            2 PRT     \\n      54 VS          -9.3089    -0.0253    10.0834 VS            2 PRT     \\n      55 VS          -9.2358    -0.0306     9.8973 VS            2 PRT     \\n      56 VS          -9.5180     0.0504    10.1066 VS            2 PRT     \\n      57 VS          -9.3470     0.0731    10.2806 VS            2 PRT     \\n      58 VS          -7.8242     0.1096    -4.6855 VS            2 PRT     \\n      59 VS          -7.7726     0.1156    -4.8786 VS            2 PRT     \\n      60 VS          -8.0371     0.1582    -4.6373 VS            2 PRT     \\n      61 VS          -7.8516     0.2002    -4.4829 VS            2 PRT     \\n      62 VS          -7.8377     0.1822    -4.6351 VS            2 PRT     \\n      63 VS          -7.8893     0.1762    -4.4419 VS            2 PRT     \\n      64 VS          -7.9982     0.1336    -4.7830 VS            2 PRT     \\n      65 VS          -7.7604     0.0916    -4.8244 VS            2 PRT     \\n@<TRIPOS>BOND\\n       1        1        3 1\\n       2        2        7 1\\n       3       24       25 1\\n       4       17       18 1\\n       5        6       21 1\\n       6        4        6 1\\n       7        7        8 1\\n       8       23       26 1\\n       9        2       20 1\\n      10        4        5 1\\n      11        3        4 1\\n      12        9       17 1\\n      13        6        7 1\\n      14       26       27 1\\n      15        9       10 1\\n      16       10       11 1\\n      17       12       14 1\\n      18       14       23 1\\n      19       27       28 1\\n      20       31       32 1\\n      21       32       33 1\\n      22       25       26 1\\n      23       21       22 1\\n      24       15       17 1\\n      25       15       16 1\\n      26       14       15 1\\n      27       29       31 1\\n      28       29       30 1\\n      29        3       19 1\\n      30        9       21 1\\n      31       25       32 1\\n      32        2        1 1\\n      33       27       29 1\\n      34       10       12 1\\n      35       12       13 1\\n@<TRIPOS>SUBSTRUCTURE\\n       1 RES             1 RESIDUE    0 **** ROOT      0\\n       2 PRT            34 RESIDUE    0 **** ROOT      0\\n\",\"mol2\");\n\tviewer_1578701902531358.setStyle({\"stick\": {\"radius\": 0.2, \"color\": \"grey\"}, \"sphere\": {\"scale\": 0.3, \"colorscheme\": {}}});\n\tviewer_1578701902531358.zoomTo();\nviewer_1578701902531358.render();\n});\n</script>",
      "text/html": [
       "<div id=\"3dmolviewer_1578701902531358\"  style=\"position: relative; width: 640px; height: 480px\">\n",
       "        <p id=\"3dmolwarning_1578701902531358\" style=\"background-color:#ffcccc;color:black\">You appear to be running in JupyterLab (or JavaScript failed to load for some other reason).  You need to install the 3dmol extension: <br>\n",
       "        <tt>jupyter labextension install jupyterlab_3dmol</tt></p>\n",
       "        </div>\n",
       "<script>\n",
       "\n",
       "var loadScriptAsync = function(uri){\n",
       "  return new Promise((resolve, reject) => {\n",
       "    var tag = document.createElement('script');\n",
       "    tag.src = uri;\n",
       "    tag.async = true;\n",
       "    tag.onload = () => {\n",
       "      resolve();\n",
       "    };\n",
       "  var firstScriptTag = document.getElementsByTagName('script')[0];\n",
       "  firstScriptTag.parentNode.insertBefore(tag, firstScriptTag);\n",
       "});\n",
       "};\n",
       "\n",
       "if(typeof $3Dmolpromise === 'undefined') {\n",
       "$3Dmolpromise = null;\n",
       "  $3Dmolpromise = loadScriptAsync('https://3dmol.csb.pitt.edu/build/3Dmol.js');\n",
       "}\n",
       "\n",
       "var viewer_1578701902531358 = null;\n",
       "var warn = document.getElementById(\"3dmolwarning_1578701902531358\");\n",
       "if(warn) {\n",
       "    warn.parentNode.removeChild(warn);\n",
       "}\n",
       "$3Dmolpromise.then(function() {\n",
       "viewer_1578701902531358 = $3Dmol.createViewer($(\"#3dmolviewer_1578701902531358\"),{backgroundColor:\"white\"});\n",
       "\tviewer_1578701902531358.addModel(\"@<TRIPOS>MOLECULE\\nRES\\n65 35 2 0 1\\nBIOPOLYMER\\nNO_CHARGES\\n@<TRIPOS>CRYSIN\\n   10.0741     5.5078    19.5075    90.0000    90.0000    90.0000  1  1\\n@<TRIPOS>ATOM\\n       1 C           -9.1048    -0.0012     9.4613 C             1 RES     \\n       2 C           -7.7360    -0.1147     9.2548 C             1 RES     \\n       3 C           -9.9622     0.0793     8.3674 C             1 RES     \\n       4 C           -9.4568     0.0465     7.0606 C             1 RES     \\n       5 H          -10.1917     0.1277     6.3016 H             1 RES     \\n       6 C           -8.0686    -0.0759     6.8135 C             1 RES     \\n       7 C           -7.2259    -0.1522     7.9569 C             1 RES     \\n       8 H           -6.1512    -0.2406     7.8615 H             1 RES     \\n       9 C           -7.9575    -0.0874     4.0373 C             1 RES     \\n      10 C           -9.3191    -0.0913     3.6601 C             1 RES     \\n      11 H          -10.1273    -0.1286     4.3462 H             1 RES     \\n      12 C           -9.7002    -0.0561     2.3096 C             1 RES     \\n      13 H          -10.7559    -0.0573     2.0631 H             1 RES     \\n      14 C           -8.7554    -0.0194     1.2760 C             1 RES     \\n      15 C           -7.4013    -0.0184     1.6385 C             1 RES     \\n      16 H           -6.5961     0.0141     0.9496 H             1 RES     \\n      17 C           -7.0193    -0.0546     2.9781 C             1 RES     \\n      18 H           -5.9543    -0.0519     3.1724 H             1 RES     \\n      19 H          -11.0284     0.1714     8.5316 H             1 RES     \\n      20 H           -7.0625    -0.1734    10.1007 H             1 RES     \\n      21 C           -7.3891    -0.1192     5.4521 C             1 RES     \\n      22 O           -6.1671    -0.1839     5.5038 O             1 RES     \\n      23 O           -9.2470     0.0181    -0.0006 O             1 RES     \\n      24 H           -6.5931    -0.1155    -1.0162 H             1 RES     \\n      25 C           -7.4150    -0.0246    -1.6816 C             1 RES     \\n      26 C           -8.7721     0.0447    -1.2840 C             1 RES     \\n      27 C           -9.7446     0.1476    -2.2946 C             1 RES     \\n      28 H          -10.7932     0.1980    -2.0287 H             1 RES     \\n      29 C           -9.3884     0.1875    -3.6463 C             1 RES     \\n      30 H          -10.1545     0.2672    -4.4068 H             1 RES     \\n      31 C           -8.0463     0.1256    -4.0164 C             1 RES     \\n      32 C           -7.0636     0.0189    -3.0349 C             1 RES     \\n      33 H           -6.0203    -0.0320    -3.3217 H             1 RES     \\n      34 VS          -9.3263     0.0591    10.1279 VS            2 PRT     \\n      35 VS          -9.3994     0.0644    10.3140 VS            2 PRT     \\n      36 VS          -9.4638    -0.0166     9.9686 VS            2 PRT     \\n      37 VS          -9.2201    -0.0393     9.9575 VS            2 PRT     \\n      38 VS          -9.3089    -0.0253    10.0834 VS            2 PRT     \\n      39 VS          -9.2358    -0.0306     9.8973 VS            2 PRT     \\n      40 VS          -9.5180     0.0504    10.1066 VS            2 PRT     \\n      41 VS          -9.3470     0.0731    10.2806 VS            2 PRT     \\n      42 VS          -7.8242     0.1096    -4.6855 VS            2 PRT     \\n      43 VS          -7.7726     0.1156    -4.8786 VS            2 PRT     \\n      44 VS          -8.0371     0.1582    -4.6373 VS            2 PRT     \\n      45 VS          -7.8516     0.2002    -4.4829 VS            2 PRT     \\n      46 VS          -7.8377     0.1822    -4.6351 VS            2 PRT     \\n      47 VS          -7.8893     0.1762    -4.4419 VS            2 PRT     \\n      48 VS          -7.9982     0.1336    -4.7830 VS            2 PRT     \\n      49 VS          -7.7604     0.0916    -4.8244 VS            2 PRT     \\n      50 VS          -9.3263     0.0591    10.1279 VS            2 PRT     \\n      51 VS          -9.3994     0.0644    10.3140 VS            2 PRT     \\n      52 VS          -9.4638    -0.0166     9.9686 VS            2 PRT     \\n      53 VS          -9.2201    -0.0393     9.9575 VS            2 PRT     \\n      54 VS          -9.3089    -0.0253    10.0834 VS            2 PRT     \\n      55 VS          -9.2358    -0.0306     9.8973 VS            2 PRT     \\n      56 VS          -9.5180     0.0504    10.1066 VS            2 PRT     \\n      57 VS          -9.3470     0.0731    10.2806 VS            2 PRT     \\n      58 VS          -7.8242     0.1096    -4.6855 VS            2 PRT     \\n      59 VS          -7.7726     0.1156    -4.8786 VS            2 PRT     \\n      60 VS          -8.0371     0.1582    -4.6373 VS            2 PRT     \\n      61 VS          -7.8516     0.2002    -4.4829 VS            2 PRT     \\n      62 VS          -7.8377     0.1822    -4.6351 VS            2 PRT     \\n      63 VS          -7.8893     0.1762    -4.4419 VS            2 PRT     \\n      64 VS          -7.9982     0.1336    -4.7830 VS            2 PRT     \\n      65 VS          -7.7604     0.0916    -4.8244 VS            2 PRT     \\n@<TRIPOS>BOND\\n       1        1        3 1\\n       2        2        7 1\\n       3       24       25 1\\n       4       17       18 1\\n       5        6       21 1\\n       6        4        6 1\\n       7        7        8 1\\n       8       23       26 1\\n       9        2       20 1\\n      10        4        5 1\\n      11        3        4 1\\n      12        9       17 1\\n      13        6        7 1\\n      14       26       27 1\\n      15        9       10 1\\n      16       10       11 1\\n      17       12       14 1\\n      18       14       23 1\\n      19       27       28 1\\n      20       31       32 1\\n      21       32       33 1\\n      22       25       26 1\\n      23       21       22 1\\n      24       15       17 1\\n      25       15       16 1\\n      26       14       15 1\\n      27       29       31 1\\n      28       29       30 1\\n      29        3       19 1\\n      30        9       21 1\\n      31       25       32 1\\n      32        2        1 1\\n      33       27       29 1\\n      34       10       12 1\\n      35       12       13 1\\n@<TRIPOS>SUBSTRUCTURE\\n       1 RES             1 RESIDUE    0 **** ROOT      0\\n       2 PRT            34 RESIDUE    0 **** ROOT      0\\n\",\"mol2\");\n",
       "\tviewer_1578701902531358.setStyle({\"stick\": {\"radius\": 0.2, \"color\": \"grey\"}, \"sphere\": {\"scale\": 0.3, \"colorscheme\": {}}});\n",
       "\tviewer_1578701902531358.zoomTo();\n",
       "viewer_1578701902531358.render();\n",
       "});\n",
       "</script>"
      ]
     },
     "metadata": {},
     "output_type": "display_data"
    }
   ],
   "source": [
    "peek.visualize(show_ports=True).show()"
   ]
  },
  {
   "cell_type": "code",
   "execution_count": null,
   "metadata": {},
   "outputs": [],
   "source": []
  },
  {
   "cell_type": "code",
   "execution_count": null,
   "metadata": {},
   "outputs": [],
   "source": []
  },
  {
   "cell_type": "code",
   "execution_count": null,
   "metadata": {},
   "outputs": [],
   "source": []
  },
  {
   "cell_type": "code",
   "execution_count": null,
   "metadata": {},
   "outputs": [],
   "source": []
  }
 ],
 "metadata": {
  "kernelspec": {
   "display_name": "Python 3",
   "language": "python",
   "name": "python3"
  },
  "language_info": {
   "codemirror_mode": {
    "name": "ipython",
    "version": 3
   },
   "file_extension": ".py",
   "mimetype": "text/x-python",
   "name": "python",
   "nbconvert_exporter": "python",
   "pygments_lexer": "ipython3",
   "version": "3.7.3"
  }
 },
 "nbformat": 4,
 "nbformat_minor": 4
}
