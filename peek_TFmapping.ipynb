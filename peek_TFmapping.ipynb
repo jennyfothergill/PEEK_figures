{
 "cells": [
  {
   "cell_type": "code",
   "execution_count": 1,
   "metadata": {},
   "outputs": [
    {
     "name": "stderr",
     "output_type": "stream",
     "text": [
      "/Users/jenny/miniconda3/envs/grits/lib/python3.7/site-packages/hoomd/meta.py:26: DeprecationWarning: Using or importing the ABCs from 'collections' instead of from 'collections.abc' is deprecated since Python 3.3,and in 3.9 it will stop working\n",
      "  from collections import Mapping\n"
     ]
    }
   ],
   "source": [
    "import mbuild as mb\n",
    "import numpy as np\n",
    "\n",
    "import utils\n",
    "from cg_compound import CG_Compound\n",
    "from draw_scene import visualize"
   ]
  },
  {
   "cell_type": "code",
   "execution_count": 2,
   "metadata": {},
   "outputs": [
    {
     "data": {
      "application/3dmoljs_load.v0": "<div id=\"3dmolviewer_16107451178717\"  style=\"position: relative; width: 640px; height: 480px\">\n        <p id=\"3dmolwarning_16107451178717\" style=\"background-color:#ffcccc;color:black\">You appear to be running in JupyterLab (or JavaScript failed to load for some other reason).  You need to install the 3dmol extension: <br>\n        <tt>jupyter labextension install jupyterlab_3dmol</tt></p>\n        </div>\n<script>\n\nvar loadScriptAsync = function(uri){\n  return new Promise((resolve, reject) => {\n    var tag = document.createElement('script');\n    tag.src = uri;\n    tag.async = true;\n    tag.onload = () => {\n      resolve();\n    };\n  var firstScriptTag = document.getElementsByTagName('script')[0];\n  firstScriptTag.parentNode.insertBefore(tag, firstScriptTag);\n});\n};\n\nif(typeof $3Dmolpromise === 'undefined') {\n$3Dmolpromise = null;\n  $3Dmolpromise = loadScriptAsync('https://3dmol.csb.pitt.edu/build/3Dmol.js');\n}\n\nvar viewer_16107451178717 = null;\nvar warn = document.getElementById(\"3dmolwarning_16107451178717\");\nif(warn) {\n    warn.parentNode.removeChild(warn);\n}\n$3Dmolpromise.then(function() {\nviewer_16107451178717 = $3Dmol.createViewer($(\"#3dmolviewer_16107451178717\"),{backgroundColor:\"white\"});\n\tviewer_16107451178717.addModel(\"@<TRIPOS>MOLECULE\\nRES\\n36 38 1 0 1\\nSMALL\\nNO_CHARGES\\n@<TRIPOS>CRYSIN\\n   10.0736     5.4619    22.1044    90.0000    90.0000    90.0000  1  1\\n@<TRIPOS>ATOM\\n       1 C           -9.1207     0.0414     9.5081 C             1 RES     \\n       2 C           -7.7465    -0.0691     9.2939 C             1 RES     \\n       3 C           -9.9773     0.0996     8.4098 C             1 RES     \\n       4 C           -9.4744     0.0506     7.1024 C             1 RES     \\n       5 H          -10.2112     0.1134     6.3433 H             1 RES     \\n       6 C           -8.0869    -0.0654     6.8535 C             1 RES     \\n       7 C           -7.2418    -0.1222     7.9951 C             1 RES     \\n       8 H           -6.1668    -0.2061     7.8981 H             1 RES     \\n       9 C           -7.9762    -0.0909     4.0763 C             1 RES     \\n      10 C           -9.3373    -0.0775     3.6959 C             1 RES     \\n      11 H          -10.1470    -0.0986     4.3811 H             1 RES     \\n      12 C           -9.7146    -0.0431     2.3440 C             1 RES     \\n      13 H          -10.7697    -0.0310     2.0947 H             1 RES     \\n      14 C           -8.7669    -0.0228     1.3115 C             1 RES     \\n      15 C           -7.4140    -0.0398     1.6788 C             1 RES     \\n      16 H           -6.6062    -0.0232     0.9929 H             1 RES     \\n      17 C           -7.0359    -0.0754     3.0186 C             1 RES     \\n      18 H           -5.9713    -0.0859     3.2146 H             1 RES     \\n      19 H          -11.0449     0.1876     8.5698 H             1 RES     \\n      20 H           -7.0586    -0.1135    10.1292 H             1 RES     \\n      21 C           -7.4092    -0.1218     5.4916 C             1 RES     \\n      22 O           -6.1875    -0.1951     5.5435 O             1 RES     \\n      23 O           -9.2532     0.0171     0.0338 O             1 RES     \\n      24 H           -6.5930    -0.0988    -0.9733 H             1 RES     \\n      25 C           -7.4135    -0.0165    -1.6407 C             1 RES     \\n      26 C           -8.7726     0.0443    -1.2493 C             1 RES     \\n      27 C           -9.7413     0.1406    -2.2638 C             1 RES     \\n      28 H          -10.7913     0.1859    -2.0032 H             1 RES     \\n      29 C           -9.3791     0.1809    -3.6145 C             1 RES     \\n      30 H          -10.1421     0.2558    -4.3785 H             1 RES     \\n      31 C           -8.0352     0.1257    -3.9784 C             1 RES     \\n      32 F           -7.6795     0.1663    -5.2864 F             1 RES     \\n      33 C           -7.0564     0.0265    -2.9928 C             1 RES     \\n      34 H           -6.0115    -0.0186    -3.2746 H             1 RES     \\n      35 O           -9.6343     0.0964    10.7555 O             1 RES     \\n      36 F           -8.8848     0.0569    11.8180 F             1 RES     \\n@<TRIPOS>BOND\\n       1        9       17 1\\n       2       25       33 1\\n       3       10       11 1\\n       4       14       23 1\\n       5       24       25 1\\n       6       26       27 1\\n       7        6       21 1\\n       8        4        5 1\\n       9       15       17 1\\n      10       31       33 1\\n      11       27       29 1\\n      12        2       20 1\\n      13       23       26 1\\n      14       12       14 1\\n      15        1       35 1\\n      16       15       16 1\\n      17        4        6 1\\n      18       35       36 1\\n      19        7        8 1\\n      20       31       32 1\\n      21       27       28 1\\n      22        3       19 1\\n      23        2        7 1\\n      24        3        4 1\\n      25       10       12 1\\n      26       12       13 1\\n      27       14       15 1\\n      28        1        3 1\\n      29       29       31 1\\n      30        6        7 1\\n      31        9       21 1\\n      32        1        2 1\\n      33       21       22 1\\n      34        9       10 1\\n      35       17       18 1\\n      36       33       34 1\\n      37       25       26 1\\n      38       29       30 1\\n@<TRIPOS>SUBSTRUCTURE\\n       1 RES             1 RESIDUE    0 **** ROOT      0\\n\",\"mol2\");\n\tviewer_16107451178717.setStyle({\"stick\": {\"radius\": 0.2, \"color\": \"grey\"}, \"sphere\": {\"scale\": 0.3, \"colorscheme\": {}}});\n\tviewer_16107451178717.zoomTo();\nviewer_16107451178717.render();\n});\n</script>",
      "text/html": [
       "<div id=\"3dmolviewer_16107451178717\"  style=\"position: relative; width: 640px; height: 480px\">\n",
       "        <p id=\"3dmolwarning_16107451178717\" style=\"background-color:#ffcccc;color:black\">You appear to be running in JupyterLab (or JavaScript failed to load for some other reason).  You need to install the 3dmol extension: <br>\n",
       "        <tt>jupyter labextension install jupyterlab_3dmol</tt></p>\n",
       "        </div>\n",
       "<script>\n",
       "\n",
       "var loadScriptAsync = function(uri){\n",
       "  return new Promise((resolve, reject) => {\n",
       "    var tag = document.createElement('script');\n",
       "    tag.src = uri;\n",
       "    tag.async = true;\n",
       "    tag.onload = () => {\n",
       "      resolve();\n",
       "    };\n",
       "  var firstScriptTag = document.getElementsByTagName('script')[0];\n",
       "  firstScriptTag.parentNode.insertBefore(tag, firstScriptTag);\n",
       "});\n",
       "};\n",
       "\n",
       "if(typeof $3Dmolpromise === 'undefined') {\n",
       "$3Dmolpromise = null;\n",
       "  $3Dmolpromise = loadScriptAsync('https://3dmol.csb.pitt.edu/build/3Dmol.js');\n",
       "}\n",
       "\n",
       "var viewer_16107451178717 = null;\n",
       "var warn = document.getElementById(\"3dmolwarning_16107451178717\");\n",
       "if(warn) {\n",
       "    warn.parentNode.removeChild(warn);\n",
       "}\n",
       "$3Dmolpromise.then(function() {\n",
       "viewer_16107451178717 = $3Dmol.createViewer($(\"#3dmolviewer_16107451178717\"),{backgroundColor:\"white\"});\n",
       "\tviewer_16107451178717.addModel(\"@<TRIPOS>MOLECULE\\nRES\\n36 38 1 0 1\\nSMALL\\nNO_CHARGES\\n@<TRIPOS>CRYSIN\\n   10.0736     5.4619    22.1044    90.0000    90.0000    90.0000  1  1\\n@<TRIPOS>ATOM\\n       1 C           -9.1207     0.0414     9.5081 C             1 RES     \\n       2 C           -7.7465    -0.0691     9.2939 C             1 RES     \\n       3 C           -9.9773     0.0996     8.4098 C             1 RES     \\n       4 C           -9.4744     0.0506     7.1024 C             1 RES     \\n       5 H          -10.2112     0.1134     6.3433 H             1 RES     \\n       6 C           -8.0869    -0.0654     6.8535 C             1 RES     \\n       7 C           -7.2418    -0.1222     7.9951 C             1 RES     \\n       8 H           -6.1668    -0.2061     7.8981 H             1 RES     \\n       9 C           -7.9762    -0.0909     4.0763 C             1 RES     \\n      10 C           -9.3373    -0.0775     3.6959 C             1 RES     \\n      11 H          -10.1470    -0.0986     4.3811 H             1 RES     \\n      12 C           -9.7146    -0.0431     2.3440 C             1 RES     \\n      13 H          -10.7697    -0.0310     2.0947 H             1 RES     \\n      14 C           -8.7669    -0.0228     1.3115 C             1 RES     \\n      15 C           -7.4140    -0.0398     1.6788 C             1 RES     \\n      16 H           -6.6062    -0.0232     0.9929 H             1 RES     \\n      17 C           -7.0359    -0.0754     3.0186 C             1 RES     \\n      18 H           -5.9713    -0.0859     3.2146 H             1 RES     \\n      19 H          -11.0449     0.1876     8.5698 H             1 RES     \\n      20 H           -7.0586    -0.1135    10.1292 H             1 RES     \\n      21 C           -7.4092    -0.1218     5.4916 C             1 RES     \\n      22 O           -6.1875    -0.1951     5.5435 O             1 RES     \\n      23 O           -9.2532     0.0171     0.0338 O             1 RES     \\n      24 H           -6.5930    -0.0988    -0.9733 H             1 RES     \\n      25 C           -7.4135    -0.0165    -1.6407 C             1 RES     \\n      26 C           -8.7726     0.0443    -1.2493 C             1 RES     \\n      27 C           -9.7413     0.1406    -2.2638 C             1 RES     \\n      28 H          -10.7913     0.1859    -2.0032 H             1 RES     \\n      29 C           -9.3791     0.1809    -3.6145 C             1 RES     \\n      30 H          -10.1421     0.2558    -4.3785 H             1 RES     \\n      31 C           -8.0352     0.1257    -3.9784 C             1 RES     \\n      32 F           -7.6795     0.1663    -5.2864 F             1 RES     \\n      33 C           -7.0564     0.0265    -2.9928 C             1 RES     \\n      34 H           -6.0115    -0.0186    -3.2746 H             1 RES     \\n      35 O           -9.6343     0.0964    10.7555 O             1 RES     \\n      36 F           -8.8848     0.0569    11.8180 F             1 RES     \\n@<TRIPOS>BOND\\n       1        9       17 1\\n       2       25       33 1\\n       3       10       11 1\\n       4       14       23 1\\n       5       24       25 1\\n       6       26       27 1\\n       7        6       21 1\\n       8        4        5 1\\n       9       15       17 1\\n      10       31       33 1\\n      11       27       29 1\\n      12        2       20 1\\n      13       23       26 1\\n      14       12       14 1\\n      15        1       35 1\\n      16       15       16 1\\n      17        4        6 1\\n      18       35       36 1\\n      19        7        8 1\\n      20       31       32 1\\n      21       27       28 1\\n      22        3       19 1\\n      23        2        7 1\\n      24        3        4 1\\n      25       10       12 1\\n      26       12       13 1\\n      27       14       15 1\\n      28        1        3 1\\n      29       29       31 1\\n      30        6        7 1\\n      31        9       21 1\\n      32        1        2 1\\n      33       21       22 1\\n      34        9       10 1\\n      35       17       18 1\\n      36       33       34 1\\n      37       25       26 1\\n      38       29       30 1\\n@<TRIPOS>SUBSTRUCTURE\\n       1 RES             1 RESIDUE    0 **** ROOT      0\\n\",\"mol2\");\n",
       "\tviewer_16107451178717.setStyle({\"stick\": {\"radius\": 0.2, \"color\": \"grey\"}, \"sphere\": {\"scale\": 0.3, \"colorscheme\": {}}});\n",
       "\tviewer_16107451178717.zoomTo();\n",
       "viewer_16107451178717.render();\n",
       "});\n",
       "</script>"
      ]
     },
     "metadata": {},
     "output_type": "display_data"
    }
   ],
   "source": [
    "peek = mb.load(\"peek_opt.mol2\")\n",
    "peek.visualize().show()"
   ]
  },
  {
   "cell_type": "code",
   "execution_count": 15,
   "metadata": {},
   "outputs": [
    {
     "name": "stdout",
     "output_type": "stream",
     "text": [
      "WARNING: Some atoms have been left out of coarse-graining!\n"
     ]
    },
    {
     "name": "stderr",
     "output_type": "stream",
     "text": [
      "/Users/jenny/miniconda3/envs/grits/lib/python3.7/site-packages/openbabel/__init__.py:14: UserWarning: \"import openbabel\" is deprecated, instead use \"from openbabel import openbabel\"\n",
      "  warnings.warn('\"import openbabel\" is deprecated, instead use \"from openbabel import openbabel\"')\n"
     ]
    }
   ],
   "source": [
    "# convert to pybel mol\n",
    "mol = peek.to_pybel()\n",
    "\n",
    "# to_pybel imports all bonds as order=1, this will type the bond correctly\n",
    "# if the structure is good\n",
    "mol.OBMol.PerceiveBondOrders()\n",
    "\n",
    "\n",
    "cg_peek, beads = utils.coarse(mol, [(\"_A\",\"c1ccccc1\")])"
   ]
  },
  {
   "cell_type": "code",
   "execution_count": 34,
   "metadata": {},
   "outputs": [],
   "source": [
    "def beads_to_mappingoperator(beads, n):\n",
    "    mo = []\n",
    "    for (inds,smarts,name) in bead_inds:\n",
    "        x = np.zeros(n)\n",
    "        x[list(inds)] = 1\n",
    "        mo.append(x)\n",
    "    return np.stack(mo)"
   ]
  },
  {
   "cell_type": "code",
   "execution_count": 36,
   "metadata": {},
   "outputs": [
    {
     "name": "stdout",
     "output_type": "stream",
     "text": [
      "[[1. 1. 1. 1. 0. 1. 1. 0. 0. 0. 0. 0. 0. 0. 0. 0. 0. 0. 0. 0. 0. 0. 0. 0.\n",
      "  0. 0. 0. 0. 0. 0. 0. 0. 0. 0. 0. 0.]\n",
      " [0. 0. 0. 0. 0. 0. 0. 0. 1. 1. 0. 1. 0. 1. 1. 0. 1. 0. 0. 0. 0. 0. 0. 0.\n",
      "  0. 0. 0. 0. 0. 0. 0. 0. 0. 0. 0. 0.]\n",
      " [0. 0. 0. 0. 0. 0. 0. 0. 0. 0. 0. 0. 0. 0. 0. 0. 0. 0. 0. 0. 0. 0. 0. 0.\n",
      "  1. 1. 1. 0. 1. 0. 1. 0. 1. 0. 0. 0.]]\n"
     ]
    }
   ],
   "source": [
    "mapping = beads_to_mappingoperator(beads, peek.n_particles)\n",
    "print(mapping)"
   ]
  },
  {
   "cell_type": "code",
   "execution_count": 4,
   "metadata": {},
   "outputs": [
    {
     "name": "stderr",
     "output_type": "stream",
     "text": [
      "/Users/jenny/miniconda3/envs/grits/lib/python3.7/site-packages/mbuild/compound.py:2443: UserWarning: Guessing that \"<_A pos=(-0.8608,-0.0011, 0.8194), 0 bonds, id: 4851398160>\" is element: \"EP\"\n",
      "  atom, element))\n",
      "/Users/jenny/miniconda3/envs/grits/lib/python3.7/site-packages/mbuild/compound.py:2443: UserWarning: Guessing that \"<_B pos=(-0.8374,-0.0058, 0.2688), 0 bonds, id: 4851398736>\" is element: \"EP\"\n",
      "  atom, element))\n"
     ]
    },
    {
     "data": {
      "application/3dmoljs_load.v0": "<div id=\"3dmolviewer_1610745118142007\"  style=\"position: relative; width: 640px; height: 480px\">\n        <p id=\"3dmolwarning_1610745118142007\" style=\"background-color:#ffcccc;color:black\">You appear to be running in JupyterLab (or JavaScript failed to load for some other reason).  You need to install the 3dmol extension: <br>\n        <tt>jupyter labextension install jupyterlab_3dmol</tt></p>\n        </div>\n<script>\n\nvar loadScriptAsync = function(uri){\n  return new Promise((resolve, reject) => {\n    var tag = document.createElement('script');\n    tag.src = uri;\n    tag.async = true;\n    tag.onload = () => {\n      resolve();\n    };\n  var firstScriptTag = document.getElementsByTagName('script')[0];\n  firstScriptTag.parentNode.insertBefore(tag, firstScriptTag);\n});\n};\n\nif(typeof $3Dmolpromise === 'undefined') {\n$3Dmolpromise = null;\n  $3Dmolpromise = loadScriptAsync('https://3dmol.csb.pitt.edu/build/3Dmol.js');\n}\n\nvar viewer_1610745118142007 = null;\nvar warn = document.getElementById(\"3dmolwarning_1610745118142007\");\nif(warn) {\n    warn.parentNode.removeChild(warn);\n}\n$3Dmolpromise.then(function() {\nviewer_1610745118142007 = $3Dmol.createViewer($(\"#3dmolviewer_1610745118142007\"),{backgroundColor:\"white\"});\n\tviewer_1610745118142007.addModel(\"@<TRIPOS>MOLECULE\\nRES\\n36 38 1 0 1\\nSMALL\\nNO_CHARGES\\n@<TRIPOS>CRYSIN\\n    5.0736     0.4619    17.1044    90.0000    90.0000    90.0000  1  1\\n@<TRIPOS>ATOM\\n       1 C           -9.1207     0.0414     9.5081 C             1 RES     \\n       2 C           -7.7465    -0.0691     9.2939 C             1 RES     \\n       3 C           -9.9773     0.0996     8.4098 C             1 RES     \\n       4 C           -9.4744     0.0506     7.1024 C             1 RES     \\n       5 H          -10.2112     0.1134     6.3433 H             1 RES     \\n       6 C           -8.0869    -0.0654     6.8535 C             1 RES     \\n       7 C           -7.2418    -0.1222     7.9951 C             1 RES     \\n       8 H           -6.1668    -0.2061     7.8981 H             1 RES     \\n       9 C           -7.9762    -0.0909     4.0763 C             1 RES     \\n      10 C           -9.3373    -0.0775     3.6959 C             1 RES     \\n      11 H          -10.1470    -0.0986     4.3811 H             1 RES     \\n      12 C           -9.7146    -0.0431     2.3440 C             1 RES     \\n      13 H          -10.7697    -0.0310     2.0947 H             1 RES     \\n      14 C           -8.7669    -0.0228     1.3115 C             1 RES     \\n      15 C           -7.4140    -0.0398     1.6788 C             1 RES     \\n      16 H           -6.6062    -0.0232     0.9929 H             1 RES     \\n      17 C           -7.0359    -0.0754     3.0186 C             1 RES     \\n      18 H           -5.9713    -0.0859     3.2146 H             1 RES     \\n      19 H          -11.0449     0.1876     8.5698 H             1 RES     \\n      20 H           -7.0586    -0.1135    10.1292 H             1 RES     \\n      21 C           -7.4092    -0.1218     5.4916 C             1 RES     \\n      22 O           -6.1875    -0.1951     5.5435 O             1 RES     \\n      23 O           -9.2532     0.0171     0.0338 O             1 RES     \\n      24 H           -6.5930    -0.0988    -0.9733 H             1 RES     \\n      25 C           -7.4135    -0.0165    -1.6407 C             1 RES     \\n      26 C           -8.7726     0.0443    -1.2493 C             1 RES     \\n      27 C           -9.7413     0.1406    -2.2638 C             1 RES     \\n      28 H          -10.7913     0.1859    -2.0032 H             1 RES     \\n      29 C           -9.3791     0.1809    -3.6145 C             1 RES     \\n      30 H          -10.1421     0.2558    -4.3785 H             1 RES     \\n      31 C           -8.0352     0.1257    -3.9784 C             1 RES     \\n      32 F           -7.6795     0.1663    -5.2864 F             1 RES     \\n      33 C           -7.0564     0.0265    -2.9928 C             1 RES     \\n      34 H           -6.0115    -0.0186    -3.2746 H             1 RES     \\n      35 O           -9.6343     0.0964    10.7555 O             1 RES     \\n      36 F           -8.8848     0.0569    11.8180 F             1 RES     \\n@<TRIPOS>BOND\\n       1        3       19 1\\n       2        2        7 1\\n       3        4        6 1\\n       4        6        7 1\\n       5       31       32 1\\n       6        9       17 1\\n       7       15       16 1\\n       8       25       26 1\\n       9       10       12 1\\n      10       29       31 1\\n      11        6       21 1\\n      12       17       18 1\\n      13        7        8 1\\n      14        1        2 1\\n      15       15       17 1\\n      16       14       15 1\\n      17        1        3 1\\n      18        3        4 1\\n      19       23       26 1\\n      20       10       11 1\\n      21        4        5 1\\n      22       35        1 1\\n      23       31       33 1\\n      24       21       22 1\\n      25       27       29 1\\n      26        9       10 1\\n      27       25       33 1\\n      28        2       20 1\\n      29       27       28 1\\n      30       33       34 1\\n      31       12       13 1\\n      32       29       30 1\\n      33        9       21 1\\n      34       12       14 1\\n      35       14       23 1\\n      36       35       36 1\\n      37       24       25 1\\n      38       27       26 1\\n@<TRIPOS>SUBSTRUCTURE\\n       1 RES             1 RESIDUE    0 **** ROOT      0\\n\",\"mol2\");\n\tviewer_1610745118142007.setStyle({\"stick\": {\"radius\": 0.2, \"opacity\": 0.6, \"color\": \"grey\"}, \"sphere\": {\"scale\": 0.3, \"opacity\": 0.6, \"colorscheme\": {}}});\n\tviewer_1610745118142007.addModel(\"@<TRIPOS>MOLECULE\\nRES\\n3 2 1 0 1\\nSMALL\\nNO_CHARGES\\n@<TRIPOS>CRYSIN\\n    5.2338     5.1418    15.8171    90.0000    90.0000    90.0000  1  1\\n@<TRIPOS>ATOM\\n       1 _A          -8.6079    -0.0108     8.1938 _A            1 RES     \\n       2 _B          -8.3741    -0.0583     2.6875 _B            1 RES     \\n       3 _A          -8.3997     0.0836    -2.6232 _A            1 RES     \\n@<TRIPOS>BOND\\n       1        1        2 1\\n       2        2        3 1\\n@<TRIPOS>SUBSTRUCTURE\\n       1 RES             1 RESIDUE    0 **** ROOT      0\\n\",\"mol2\");\n\tviewer_1610745118142007.setStyle({\"atom\": [\"_A\", \"_B\", \"_A\"]},{\"stick\": {\"radius\": 0.13999999999999999, \"opacity\": 1, \"color\": \"grey\"}, \"sphere\": {\"scale\": 0.7, \"opacity\": 1, \"colorscheme\": {}}});\n\tviewer_1610745118142007.zoomTo();\nviewer_1610745118142007.render();\n});\n</script>",
      "text/html": [
       "<div id=\"3dmolviewer_1610745118142007\"  style=\"position: relative; width: 640px; height: 480px\">\n",
       "        <p id=\"3dmolwarning_1610745118142007\" style=\"background-color:#ffcccc;color:black\">You appear to be running in JupyterLab (or JavaScript failed to load for some other reason).  You need to install the 3dmol extension: <br>\n",
       "        <tt>jupyter labextension install jupyterlab_3dmol</tt></p>\n",
       "        </div>\n",
       "<script>\n",
       "\n",
       "var loadScriptAsync = function(uri){\n",
       "  return new Promise((resolve, reject) => {\n",
       "    var tag = document.createElement('script');\n",
       "    tag.src = uri;\n",
       "    tag.async = true;\n",
       "    tag.onload = () => {\n",
       "      resolve();\n",
       "    };\n",
       "  var firstScriptTag = document.getElementsByTagName('script')[0];\n",
       "  firstScriptTag.parentNode.insertBefore(tag, firstScriptTag);\n",
       "});\n",
       "};\n",
       "\n",
       "if(typeof $3Dmolpromise === 'undefined') {\n",
       "$3Dmolpromise = null;\n",
       "  $3Dmolpromise = loadScriptAsync('https://3dmol.csb.pitt.edu/build/3Dmol.js');\n",
       "}\n",
       "\n",
       "var viewer_1610745118142007 = null;\n",
       "var warn = document.getElementById(\"3dmolwarning_1610745118142007\");\n",
       "if(warn) {\n",
       "    warn.parentNode.removeChild(warn);\n",
       "}\n",
       "$3Dmolpromise.then(function() {\n",
       "viewer_1610745118142007 = $3Dmol.createViewer($(\"#3dmolviewer_1610745118142007\"),{backgroundColor:\"white\"});\n",
       "\tviewer_1610745118142007.addModel(\"@<TRIPOS>MOLECULE\\nRES\\n36 38 1 0 1\\nSMALL\\nNO_CHARGES\\n@<TRIPOS>CRYSIN\\n    5.0736     0.4619    17.1044    90.0000    90.0000    90.0000  1  1\\n@<TRIPOS>ATOM\\n       1 C           -9.1207     0.0414     9.5081 C             1 RES     \\n       2 C           -7.7465    -0.0691     9.2939 C             1 RES     \\n       3 C           -9.9773     0.0996     8.4098 C             1 RES     \\n       4 C           -9.4744     0.0506     7.1024 C             1 RES     \\n       5 H          -10.2112     0.1134     6.3433 H             1 RES     \\n       6 C           -8.0869    -0.0654     6.8535 C             1 RES     \\n       7 C           -7.2418    -0.1222     7.9951 C             1 RES     \\n       8 H           -6.1668    -0.2061     7.8981 H             1 RES     \\n       9 C           -7.9762    -0.0909     4.0763 C             1 RES     \\n      10 C           -9.3373    -0.0775     3.6959 C             1 RES     \\n      11 H          -10.1470    -0.0986     4.3811 H             1 RES     \\n      12 C           -9.7146    -0.0431     2.3440 C             1 RES     \\n      13 H          -10.7697    -0.0310     2.0947 H             1 RES     \\n      14 C           -8.7669    -0.0228     1.3115 C             1 RES     \\n      15 C           -7.4140    -0.0398     1.6788 C             1 RES     \\n      16 H           -6.6062    -0.0232     0.9929 H             1 RES     \\n      17 C           -7.0359    -0.0754     3.0186 C             1 RES     \\n      18 H           -5.9713    -0.0859     3.2146 H             1 RES     \\n      19 H          -11.0449     0.1876     8.5698 H             1 RES     \\n      20 H           -7.0586    -0.1135    10.1292 H             1 RES     \\n      21 C           -7.4092    -0.1218     5.4916 C             1 RES     \\n      22 O           -6.1875    -0.1951     5.5435 O             1 RES     \\n      23 O           -9.2532     0.0171     0.0338 O             1 RES     \\n      24 H           -6.5930    -0.0988    -0.9733 H             1 RES     \\n      25 C           -7.4135    -0.0165    -1.6407 C             1 RES     \\n      26 C           -8.7726     0.0443    -1.2493 C             1 RES     \\n      27 C           -9.7413     0.1406    -2.2638 C             1 RES     \\n      28 H          -10.7913     0.1859    -2.0032 H             1 RES     \\n      29 C           -9.3791     0.1809    -3.6145 C             1 RES     \\n      30 H          -10.1421     0.2558    -4.3785 H             1 RES     \\n      31 C           -8.0352     0.1257    -3.9784 C             1 RES     \\n      32 F           -7.6795     0.1663    -5.2864 F             1 RES     \\n      33 C           -7.0564     0.0265    -2.9928 C             1 RES     \\n      34 H           -6.0115    -0.0186    -3.2746 H             1 RES     \\n      35 O           -9.6343     0.0964    10.7555 O             1 RES     \\n      36 F           -8.8848     0.0569    11.8180 F             1 RES     \\n@<TRIPOS>BOND\\n       1        3       19 1\\n       2        2        7 1\\n       3        4        6 1\\n       4        6        7 1\\n       5       31       32 1\\n       6        9       17 1\\n       7       15       16 1\\n       8       25       26 1\\n       9       10       12 1\\n      10       29       31 1\\n      11        6       21 1\\n      12       17       18 1\\n      13        7        8 1\\n      14        1        2 1\\n      15       15       17 1\\n      16       14       15 1\\n      17        1        3 1\\n      18        3        4 1\\n      19       23       26 1\\n      20       10       11 1\\n      21        4        5 1\\n      22       35        1 1\\n      23       31       33 1\\n      24       21       22 1\\n      25       27       29 1\\n      26        9       10 1\\n      27       25       33 1\\n      28        2       20 1\\n      29       27       28 1\\n      30       33       34 1\\n      31       12       13 1\\n      32       29       30 1\\n      33        9       21 1\\n      34       12       14 1\\n      35       14       23 1\\n      36       35       36 1\\n      37       24       25 1\\n      38       27       26 1\\n@<TRIPOS>SUBSTRUCTURE\\n       1 RES             1 RESIDUE    0 **** ROOT      0\\n\",\"mol2\");\n",
       "\tviewer_1610745118142007.setStyle({\"stick\": {\"radius\": 0.2, \"opacity\": 0.6, \"color\": \"grey\"}, \"sphere\": {\"scale\": 0.3, \"opacity\": 0.6, \"colorscheme\": {}}});\n",
       "\tviewer_1610745118142007.addModel(\"@<TRIPOS>MOLECULE\\nRES\\n3 2 1 0 1\\nSMALL\\nNO_CHARGES\\n@<TRIPOS>CRYSIN\\n    5.2338     5.1418    15.8171    90.0000    90.0000    90.0000  1  1\\n@<TRIPOS>ATOM\\n       1 _A          -8.6079    -0.0108     8.1938 _A            1 RES     \\n       2 _B          -8.3741    -0.0583     2.6875 _B            1 RES     \\n       3 _A          -8.3997     0.0836    -2.6232 _A            1 RES     \\n@<TRIPOS>BOND\\n       1        1        2 1\\n       2        2        3 1\\n@<TRIPOS>SUBSTRUCTURE\\n       1 RES             1 RESIDUE    0 **** ROOT      0\\n\",\"mol2\");\n",
       "\tviewer_1610745118142007.setStyle({\"atom\": [\"_A\", \"_B\", \"_A\"]},{\"stick\": {\"radius\": 0.13999999999999999, \"opacity\": 1, \"color\": \"grey\"}, \"sphere\": {\"scale\": 0.7, \"opacity\": 1, \"colorscheme\": {}}});\n",
       "\tviewer_1610745118142007.zoomTo();\n",
       "viewer_1610745118142007.render();\n",
       "});\n",
       "</script>"
      ]
     },
     "metadata": {},
     "output_type": "display_data"
    }
   ],
   "source": [
    "cg_peek.add_bond((cg_peek[0],cg_peek[1]))\n",
    "cg_peek.add_bond((cg_peek[1],cg_peek[2]))\n",
    "cg_peek[1].name = \"_B\"\n",
    "cg_peek.visualize(show_atomistic=True).show()"
   ]
  }
 ],
 "metadata": {
  "kernelspec": {
   "display_name": "Python 3",
   "language": "python",
   "name": "python3"
  },
  "language_info": {
   "codemirror_mode": {
    "name": "ipython",
    "version": 3
   },
   "file_extension": ".py",
   "mimetype": "text/x-python",
   "name": "python",
   "nbconvert_exporter": "python",
   "pygments_lexer": "ipython3",
   "version": "3.7.6"
  }
 },
 "nbformat": 4,
 "nbformat_minor": 4
}
